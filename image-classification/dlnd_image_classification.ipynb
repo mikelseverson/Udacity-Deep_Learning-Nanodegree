{
 "cells": [
  {
   "cell_type": "markdown",
   "metadata": {
    "collapsed": true,
    "deletable": true,
    "editable": true
   },
   "source": [
    "# Image Classification\n",
    "In this project, you'll classify images from the [CIFAR-10 dataset](https://www.cs.toronto.edu/~kriz/cifar.html).  The dataset consists of airplanes, dogs, cats, and other objects. You'll preprocess the images, then train a convolutional neural network on all the samples. The images need to be normalized and the labels need to be one-hot encoded.  You'll get to apply what you learned and build a convolutional, max pooling, dropout, and fully connected layers.  At the end, you'll get to see your neural network's predictions on the sample images.\n",
    "## Get the Data\n",
    "Run the following cell to download the [CIFAR-10 dataset for python](https://www.cs.toronto.edu/~kriz/cifar-10-python.tar.gz)."
   ]
  },
  {
   "cell_type": "code",
   "execution_count": 15,
   "metadata": {
    "collapsed": false,
    "deletable": true,
    "editable": true
   },
   "outputs": [
    {
     "name": "stdout",
     "output_type": "stream",
     "text": [
      "All files found!\n"
     ]
    }
   ],
   "source": [
    "\"\"\"\n",
    "DON'T MODIFY ANYTHING IN THIS CELL THAT IS BELOW THIS LINE\n",
    "\"\"\"\n",
    "from urllib.request import urlretrieve\n",
    "from os.path import isfile, isdir\n",
    "from tqdm import tqdm\n",
    "import problem_unittests as tests\n",
    "import tarfile\n",
    "\n",
    "cifar10_dataset_folder_path = 'cifar-10-batches-py'\n",
    "\n",
    "class DLProgress(tqdm):\n",
    "    last_block = 0\n",
    "\n",
    "    def hook(self, block_num=1, block_size=1, total_size=None):\n",
    "        self.total = total_size\n",
    "        self.update((block_num - self.last_block) * block_size)\n",
    "        self.last_block = block_num\n",
    "\n",
    "if not isfile('cifar-10-python.tar.gz'):\n",
    "    with DLProgress(unit='B', unit_scale=True, miniters=1, desc='CIFAR-10 Dataset') as pbar:\n",
    "        urlretrieve(\n",
    "            'https://www.cs.toronto.edu/~kriz/cifar-10-python.tar.gz',\n",
    "            'cifar-10-python.tar.gz',\n",
    "            pbar.hook)\n",
    "\n",
    "if not isdir(cifar10_dataset_folder_path):\n",
    "    with tarfile.open('cifar-10-python.tar.gz') as tar:\n",
    "        tar.extractall()\n",
    "        tar.close()\n",
    "\n",
    "\n",
    "tests.test_folder_path(cifar10_dataset_folder_path)"
   ]
  },
  {
   "cell_type": "markdown",
   "metadata": {
    "deletable": true,
    "editable": true
   },
   "source": [
    "## Explore the Data\n",
    "The dataset is broken into batches to prevent your machine from running out of memory.  The CIFAR-10 dataset consists of 5 batches, named `data_batch_1`, `data_batch_2`, etc.. Each batch contains the labels and images that are one of the following:\n",
    "* airplane\n",
    "* automobile\n",
    "* bird\n",
    "* cat\n",
    "* deer\n",
    "* dog\n",
    "* frog\n",
    "* horse\n",
    "* ship\n",
    "* truck\n",
    "\n",
    "Understanding a dataset is part of making predictions on the data.  Play around with the code cell below by changing the `batch_id` and `sample_id`. The `batch_id` is the id for a batch (1-5). The `sample_id` is the id for a image and label pair in the batch.\n",
    "\n",
    "Ask yourself \"What are all possible labels?\", \"What is the range of values for the image data?\", \"Are the labels in order or random?\".  Answers to questions like these will help you preprocess the data and end up with better predictions."
   ]
  },
  {
   "cell_type": "code",
   "execution_count": 16,
   "metadata": {
    "collapsed": false,
    "deletable": true,
    "editable": true
   },
   "outputs": [
    {
     "name": "stdout",
     "output_type": "stream",
     "text": [
      "\n",
      "Stats of batch 4:\n",
      "Samples: 10000\n",
      "Label Counts: {0: 1003, 1: 963, 2: 1041, 3: 976, 4: 1004, 5: 1021, 6: 1004, 7: 981, 8: 1024, 9: 983}\n",
      "First 20 Labels: [0, 6, 0, 2, 7, 2, 1, 2, 4, 1, 5, 6, 6, 3, 1, 3, 5, 5, 8, 1]\n",
      "\n",
      "Example of Image 420:\n",
      "Image - Min Value: 13 Max Value: 255\n",
      "Image - Shape: (32, 32, 3)\n",
      "Label - Label Id: 9 Name: truck\n"
     ]
    },
    {
     "data": {
      "image/png": "[encoded data removed]",
      "text/plain": [
       "<matplotlib.figure.Figure at 0x7ffa8cfc3d68>"
      ]
     },
     "metadata": {
      "image/png": {
       "height": 250,
       "width": 253
      }
     },
     "output_type": "display_data"
    }
   ],
   "source": [
    "%matplotlib inline\n",
    "%config InlineBackend.figure_format = 'retina'\n",
    "\n",
    "import helper\n",
    "import numpy as np\n",
    "\n",
    "# Explore the dataset\n",
    "batch_id = 4\n",
    "sample_id = 420\n",
    "helper.display_stats(cifar10_dataset_folder_path, batch_id, sample_id)"
   ]
  },
  {
   "cell_type": "markdown",
   "metadata": {
    "deletable": true,
    "editable": true
   },
   "source": [
    "## Implement Preprocess Functions\n",
    "### Normalize\n",
    "In the cell below, implement the `normalize` function to take in image data, `x`, and return it as a normalized Numpy array. The values should be in the range of 0 to 1, inclusive.  The return object should be the same shape as `x`."
   ]
  },
  {
   "cell_type": "code",
   "execution_count": 29,
   "metadata": {
    "collapsed": false,
    "deletable": true,
    "editable": true
   },
   "outputs": [
    {
     "name": "stdout",
     "output_type": "stream",
     "text": [
      "Tests Passed\n"
     ]
    }
   ],
   "source": [
    "def normalize(x):\n",
    "    \"\"\"\n",
    "    Normalize a list of sample image data in the range of 0 to 1\n",
    "    : x: List of image data.  The image shape is (32, 32, 3)\n",
    "    : return: Numpy array of normalize data\n",
    "    \"\"\"\n",
    "\n",
    "    # TODO: Implement Function\n",
    "    mins = np.min(x, axis=0)\n",
    "    maxs = np.max(x, axis=0)\n",
    "    rng = maxs - mins\n",
    "    return 1 - ((maxs - x) / rng)\n",
    "\n",
    "\n",
    "\"\"\"\n",
    "DON'T MODIFY ANYTHING IN THIS CELL THAT IS BELOW THIS LINE\n",
    "\"\"\"\n",
    "tests.test_normalize(normalize)"
   ]
  },
  {
   "cell_type": "markdown",
   "metadata": {
    "deletable": true,
    "editable": true
   },
   "source": [
    "### One-hot encode\n",
    "Just like the previous code cell, you'll be implementing a function for preprocessing.  This time, you'll implement the `one_hot_encode` function. The input, `x`, are a list of labels.  Implement the function to return the list of labels as One-Hot encoded Numpy array.  The possible values for labels are 0 to 9. The one-hot encoding function should return the same encoding for each value between each call to `one_hot_encode`.  Make sure to save the map of encodings outside the function.\n",
    "\n",
    "Hint: Don't reinvent the wheel."
   ]
  },
  {
   "cell_type": "code",
   "execution_count": 27,
   "metadata": {
    "collapsed": false,
    "deletable": true,
    "editable": true
   },
   "outputs": [
    {
     "name": "stdout",
     "output_type": "stream",
     "text": [
      "Tests Passed\n"
     ]
    }
   ],
   "source": [
    "def one_hot_encode(x):\n",
    "    \"\"\"\n",
    "    One hot encode a list of sample labels. Return a one-hot encoded vector for each label.\n",
    "    : x: List of sample Labels\n",
    "    : return: Numpy array of one-hot encoded labels\n",
    "    \"\"\"\n",
    "    a = np.zeros(shape=(len(x),10))\n",
    "    # TODO: Implement Function\n",
    "    for i in range(len(x)):\n",
    "        a[i][x[i]] = 1\n",
    "    return a\n",
    "\"\"\"\n",
    "DON'T MODIFY ANYTHING IN THIS CELL THAT IS BELOW THIS LINE\n",
    "\"\"\"\n",
    "tests.test_one_hot_encode(one_hot_encode)"
   ]
  },
  {
   "cell_type": "markdown",
   "metadata": {
    "deletable": true,
    "editable": true
   },
   "source": [
    "### Randomize Data\n",
    "As you saw from exploring the data above, the order of the samples are randomized.  It doesn't hurt to randomize it again, but you don't need to for this dataset."
   ]
  },
  {
   "cell_type": "markdown",
   "metadata": {
    "deletable": true,
    "editable": true
   },
   "source": [
    "## Preprocess all the data and save it\n",
    "Running the code cell below will preprocess all the CIFAR-10 data and save it to file. The code below also uses 10% of the training data for validation."
   ]
  },
  {
   "cell_type": "code",
   "execution_count": 30,
   "metadata": {
    "collapsed": false,
    "deletable": true,
    "editable": true
   },
   "outputs": [],
   "source": [
    "\"\"\"\n",
    "DON'T MODIFY ANYTHING IN THIS CELL\n",
    "\"\"\"\n",
    "# Preprocess Training, Validation, and Testing Data\n",
    "helper.preprocess_and_save_data(cifar10_dataset_folder_path, normalize, one_hot_encode)"
   ]
  },
  {
   "cell_type": "markdown",
   "metadata": {
    "deletable": true,
    "editable": true
   },
   "source": [
    "# Check Point\n",
    "This is your first checkpoint.  If you ever decide to come back to this notebook or have to restart the notebook, you can start from here.  The preprocessed data has been saved to disk."
   ]
  },
  {
   "cell_type": "code",
   "execution_count": 31,
   "metadata": {
    "collapsed": false,
    "deletable": true,
    "editable": true
   },
   "outputs": [],
   "source": [
    "\"\"\"\n",
    "DON'T MODIFY ANYTHING IN THIS CELL\n",
    "\"\"\"\n",
    "import pickle\n",
    "import problem_unittests as tests\n",
    "import helper\n",
    "\n",
    "# Load the Preprocessed Validation data\n",
    "valid_features, valid_labels = pickle.load(open('preprocess_validation.p', mode='rb'))"
   ]
  },
  {
   "cell_type": "markdown",
   "metadata": {
    "deletable": true,
    "editable": true
   },
   "source": [
    "## Build the network\n",
    "For the neural network, you'll build each layer into a function.  Most of the code you've seen has been outside of functions. To test your code more thoroughly, we require that you put each layer in a function.  This allows us to give you better feedback and test for simple mistakes using our unittests before you submit your project.\n",
    "\n",
    ">**Note:** If you're finding it hard to dedicate enough time for this course each week, we've provided a small shortcut to this part of the project. In the next couple of problems, you'll have the option to use classes from the [TensorFlow Layers](https://www.tensorflow.org/api_docs/python/tf/layers) or [TensorFlow Layers (contrib)](https://www.tensorflow.org/api_guides/python/contrib.layers) packages to build each layer, except the layers you build in the \"Convolutional and Max Pooling Layer\" section.  TF Layers is similar to Keras's and TFLearn's abstraction to layers, so it's easy to pickup.\n",
    "\n",
    ">However, if you would like to get the most out of this course, try to solve all the problems _without_ using anything from the TF Layers packages. You **can** still use classes from other packages that happen to have the same name as ones you find in TF Layers! For example, instead of using the TF Layers version of the `conv2d` class, [tf.layers.conv2d](https://www.tensorflow.org/api_docs/python/tf/layers/conv2d), you would want to use the TF Neural Network version of `conv2d`, [tf.nn.conv2d](https://www.tensorflow.org/api_docs/python/tf/nn/conv2d). \n",
    "\n",
    "Let's begin!\n",
    "\n",
    "### Input\n",
    "The neural network needs to read the image data, one-hot encoded labels, and dropout keep probability. Implement the following functions\n",
    "* Implement `neural_net_image_input`\n",
    " * Return a [TF Placeholder](https://www.tensorflow.org/api_docs/python/tf/placeholder)\n",
    " * Set the shape using `image_shape` with batch size set to `None`.\n",
    " * Name the TensorFlow placeholder \"x\" using the TensorFlow `name` parameter in the [TF Placeholder](https://www.tensorflow.org/api_docs/python/tf/placeholder).\n",
    "* Implement `neural_net_label_input`\n",
    " * Return a [TF Placeholder](https://www.tensorflow.org/api_docs/python/tf/placeholder)\n",
    " * Set the shape using `n_classes` with batch size set to `None`.\n",
    " * Name the TensorFlow placeholder \"y\" using the TensorFlow `name` parameter in the [TF Placeholder](https://www.tensorflow.org/api_docs/python/tf/placeholder).\n",
    "* Implement `neural_net_keep_prob_input`\n",
    " * Return a [TF Placeholder](https://www.tensorflow.org/api_docs/python/tf/placeholder) for dropout keep probability.\n",
    " * Name the TensorFlow placeholder \"keep_prob\" using the TensorFlow `name` parameter in the [TF Placeholder](https://www.tensorflow.org/api_docs/python/tf/placeholder).\n",
    "\n",
    "These names will be used at the end of the project to load your saved model.\n",
    "\n",
    "Note: `None` for shapes in TensorFlow allow for a dynamic size."
   ]
  },
  {
   "cell_type": "code",
   "execution_count": 32,
   "metadata": {
    "collapsed": false,
    "deletable": true,
    "editable": true
   },
   "outputs": [
    {
     "name": "stdout",
     "output_type": "stream",
     "text": [
      "Image Input Tests Passed.\n",
      "Label Input Tests Passed.\n",
      "Keep Prob Tests Passed.\n"
     ]
    }
   ],
   "source": [
    "import tensorflow as tf\n",
    "\n",
    "def neural_net_image_input(image_shape):\n",
    "    \"\"\"\n",
    "    Return a Tensor for a batch of image input\n",
    "    : image_shape: Shape of the images\n",
    "    : return: Tensor for image input.\n",
    "    \"\"\"\n",
    "    # TODO: Implement Function\n",
    "    return tf.placeholder(tf.float32, shape=(None, image_shape[0], image_shape[1], image_shape[2],), name=\"x\")\n",
    "\n",
    "\n",
    "def neural_net_label_input(n_classes):\n",
    "    \"\"\"\n",
    "    Return a Tensor for a batch of label input\n",
    "    : n_classes: Number of classes\n",
    "    : return: Tensor for label input.\n",
    "    \"\"\"\n",
    "    # TODO: Implement Function\n",
    "    return tf.placeholder(tf.float32, shape=([None, n_classes]), name=\"y\")\n",
    "\n",
    "\n",
    "def neural_net_keep_prob_input():\n",
    "    \"\"\"\n",
    "    Return a Tensor for keep probability\n",
    "    : return: Tensor for keep probability.\n",
    "    \"\"\"\n",
    "    # TODO: Implement Function\n",
    "    return tf.placeholder(tf.float32, name=\"keep_prob\")\n",
    "\n",
    "\n",
    "\"\"\"\n",
    "DON'T MODIFY ANYTHING IN THIS CELL THAT IS BELOW THIS LINE\n",
    "\"\"\"\n",
    "tf.reset_default_graph()\n",
    "tests.test_nn_image_inputs(neural_net_image_input)\n",
    "tests.test_nn_label_inputs(neural_net_label_input)\n",
    "tests.test_nn_keep_prob_inputs(neural_net_keep_prob_input)"
   ]
  },
  {
   "cell_type": "markdown",
   "metadata": {
    "deletable": true,
    "editable": true
   },
   "source": [
    "### Convolution and Max Pooling Layer\n",
    "Convolution layers have a lot of success with images. For this code cell, you should implement the function `conv2d_maxpool` to apply convolution then max pooling:\n",
    "* Create the weight and bias using `conv_ksize`, `conv_num_outputs` and the shape of `x_tensor`.\n",
    "* Apply a convolution to `x_tensor` using weight and `conv_strides`.\n",
    " * We recommend you use same padding, but you're welcome to use any padding.\n",
    "* Add bias\n",
    "* Add a nonlinear activation to the convolution.\n",
    "* Apply Max Pooling using `pool_ksize` and `pool_strides`.\n",
    " * We recommend you use same padding, but you're welcome to use any padding.\n",
    "\n",
    "**Note:** You **can't** use [TensorFlow Layers](https://www.tensorflow.org/api_docs/python/tf/layers) or [TensorFlow Layers (contrib)](https://www.tensorflow.org/api_guides/python/contrib.layers) for **this** layer, but you can still use TensorFlow's [Neural Network](https://www.tensorflow.org/api_docs/python/tf/nn) package. You may still use the shortcut option for all the **other** layers."
   ]
  },
  {
   "cell_type": "code",
   "execution_count": 33,
   "metadata": {
    "collapsed": false,
    "deletable": true,
    "editable": true
   },
   "outputs": [
    {
     "name": "stdout",
     "output_type": "stream",
     "text": [
      "Tests Passed\n"
     ]
    }
   ],
   "source": [
    "def conv2d_maxpool(x_tensor, conv_num_outputs, conv_ksize, conv_strides, pool_ksize, pool_strides):\n",
    "    \"\"\"\n",
    "    Apply convolution then max pooling to x_tensor\n",
    "    :param x_tensor: TensorFlow Tensor\n",
    "    :param conv_num_outputs: Number of outputs for the convolutional layer\n",
    "    :param conv_ksize: kernal size 2-D Tuple for the convolutional layer\n",
    "    :param conv_strides: Stride 2-D Tuple for convolution\n",
    "    :param pool_ksize: kernal size 2-D Tuple for pool\n",
    "    :param pool_strides: Stride 2-D Tuple for pool\n",
    "    : return: A tensor that represents convolution and max pooling of x_tensor\n",
    "    \"\"\"\n",
    "\n",
    "    # TODO: Implement Function\n",
    "    #x_tensor = Tensor(\"Placeholder_25:0\", shape=(?, 32, 32, 5), dtype=float32)\n",
    "    filter_weights = tf.Variable(tf.truncated_normal((conv_ksize[0], conv_ksize[1], x_tensor.get_shape().as_list()[3], conv_num_outputs)))\n",
    "    filter_bias = tf.Variable(tf.zeros(conv_num_outputs))   \n",
    "    \n",
    "    conv_strides = [1, conv_strides[0], conv_strides[1], 1]\n",
    "    \n",
    "    conv_layer = tf.nn.conv2d(x_tensor, filter_weights, conv_strides, \"SAME\")\n",
    "    conv_layer = tf.nn.bias_add(conv_layer, filter_bias)\n",
    "    conv_layer = tf.nn.relu(conv_layer)\n",
    "    \n",
    "    max_pool_strides = [1, pool_ksize[0], pool_ksize[1], 1]\n",
    "    max_pool_padding = [1, pool_strides[0], pool_strides[1], 1]\n",
    "    \n",
    "    conv_layer = tf.nn.max_pool(conv_layer, max_pool_strides, max_pool_padding, \"SAME\")\n",
    "    \n",
    "    return conv_layer\n",
    "    \n",
    "\n",
    "\"\"\"\n",
    "DON'T MODIFY ANYTHING IN THIS CELL THAT IS BELOW THIS LINE\n",
    "\"\"\"\n",
    "tests.test_con_pool(conv2d_maxpool)\n",
    "\n",
    "\n"
   ]
  },
  {
   "cell_type": "markdown",
   "metadata": {
    "deletable": true,
    "editable": true
   },
   "source": [
    "### Flatten Layer\n",
    "Implement the `flatten` function to change the dimension of `x_tensor` from a 4-D tensor to a 2-D tensor.  The output should be the shape (*Batch Size*, *Flattened Image Size*). Shortcut option: you can use classes from the [TensorFlow Layers](https://www.tensorflow.org/api_docs/python/tf/layers) or [TensorFlow Layers (contrib)](https://www.tensorflow.org/api_guides/python/contrib.layers) packages for this layer. For more of a challenge, only use other TensorFlow packages."
   ]
  },
  {
   "cell_type": "code",
   "execution_count": 34,
   "metadata": {
    "collapsed": false,
    "deletable": true,
    "editable": true
   },
   "outputs": [
    {
     "name": "stdout",
     "output_type": "stream",
     "text": [
      "Tests Passed\n"
     ]
    }
   ],
   "source": [
    "def flatten(x_tensor):\n",
    "    \"\"\"\n",
    "    Flatten x_tensor to (Batch Size, Flattened Image Size)\n",
    "    : x_tensor: A tensor of size (Batch Size, ...), where ... are the image dimensions.\n",
    "    : return: A tensor of size (Batch Size, Flattened Image Size).\n",
    "    \"\"\"\n",
    "    # TODO: Implement Function\n",
    "    return tf.contrib.layers.flatten(x_tensor)\n",
    "\n",
    "\n",
    "\"\"\"\n",
    "DON'T MODIFY ANYTHING IN THIS CELL THAT IS BELOW THIS LINE\n",
    "\"\"\"\n",
    "tests.test_flatten(flatten)"
   ]
  },
  {
   "cell_type": "markdown",
   "metadata": {
    "deletable": true,
    "editable": true
   },
   "source": [
    "### Fully-Connected Layer\n",
    "Implement the `fully_conn` function to apply a fully connected layer to `x_tensor` with the shape (*Batch Size*, *num_outputs*). Shortcut option: you can use classes from the [TensorFlow Layers](https://www.tensorflow.org/api_docs/python/tf/layers) or [TensorFlow Layers (contrib)](https://www.tensorflow.org/api_guides/python/contrib.layers) packages for this layer. For more of a challenge, only use other TensorFlow packages."
   ]
  },
  {
   "cell_type": "code",
   "execution_count": 35,
   "metadata": {
    "collapsed": false,
    "deletable": true,
    "editable": true
   },
   "outputs": [
    {
     "name": "stdout",
     "output_type": "stream",
     "text": [
      "Tests Passed\n"
     ]
    }
   ],
   "source": [
    "def fully_conn(x_tensor, num_outputs):\n",
    "    \"\"\"\n",
    "    Apply a fully connected layer to x_tensor using weight and bias\n",
    "    : x_tensor: A 2-D tensor where the first dimension is batch size.\n",
    "    : num_outputs: The number of output that the new tensor should be.\n",
    "    : return: A 2-D tensor where the second dimension is num_outputs.\n",
    "    \"\"\"\n",
    "    # TODO: Implement Function\n",
    "    return tf.contrib.layers.fully_connected(x_tensor, num_outputs)\n",
    "\n",
    "\n",
    "\"\"\"\n",
    "DON'T MODIFY ANYTHING IN THIS CELL THAT IS BELOW THIS LINE\n",
    "\"\"\"\n",
    "tests.test_fully_conn(fully_conn)"
   ]
  },
  {
   "cell_type": "markdown",
   "metadata": {
    "deletable": true,
    "editable": true
   },
   "source": [
    "### Output Layer\n",
    "Implement the `output` function to apply a fully connected layer to `x_tensor` with the shape (*Batch Size*, *num_outputs*). Shortcut option: you can use classes from the [TensorFlow Layers](https://www.tensorflow.org/api_docs/python/tf/layers) or [TensorFlow Layers (contrib)](https://www.tensorflow.org/api_guides/python/contrib.layers) packages for this layer. For more of a challenge, only use other TensorFlow packages.\n",
    "\n",
    "**Note:** Activation, softmax, or cross entropy should **not** be applied to this."
   ]
  },
  {
   "cell_type": "code",
   "execution_count": 36,
   "metadata": {
    "collapsed": false,
    "deletable": true,
    "editable": true
   },
   "outputs": [
    {
     "name": "stdout",
     "output_type": "stream",
     "text": [
      "Tests Passed\n"
     ]
    }
   ],
   "source": [
    "def output(x_tensor, num_outputs):\n",
    "    \"\"\"\n",
    "    Apply a output layer to x_tensor using weight and bias\n",
    "    : x_tensor: A 2-D tensor where the first dimension is batch size.\n",
    "    : num_outputs: The number of output that the new tensor should be.\n",
    "    : return: A 2-D tensor where the second dimension is num_outputs.\n",
    "    \"\"\"\n",
    "    # TODO: Implement Function\n",
    "    return tf.contrib.layers.linear(x_tensor, num_outputs)\n",
    "\n",
    "\n",
    "\"\"\"\n",
    "DON'T MODIFY ANYTHING IN THIS CELL THAT IS BELOW THIS LINE\n",
    "\"\"\"\n",
    "tests.test_output(output)"
   ]
  },
  {
   "cell_type": "markdown",
   "metadata": {
    "deletable": true,
    "editable": true
   },
   "source": [
    "### Create Convolutional Model\n",
    "Implement the function `conv_net` to create a convolutional neural network model. The function takes in a batch of images, `x`, and outputs logits.  Use the layers you created above to create this model:\n",
    "\n",
    "* Apply 1, 2, or 3 Convolution and Max Pool layers\n",
    "* Apply a Flatten Layer\n",
    "* Apply 1, 2, or 3 Fully Connected Layers\n",
    "* Apply an Output Layer\n",
    "* Return the output\n",
    "* Apply [TensorFlow's Dropout](https://www.tensorflow.org/api_docs/python/tf/nn/dropout) to one or more layers in the model using `keep_prob`. "
   ]
  },
  {
   "cell_type": "code",
   "execution_count": 73,
   "metadata": {
    "collapsed": false,
    "deletable": true,
    "editable": true
   },
   "outputs": [
    {
     "name": "stdout",
     "output_type": "stream",
     "text": [
      "Neural Network Built!\n"
     ]
    }
   ],
   "source": [
    "def conv_net(x_tensor, keep_prob):\n",
    "    \"\"\"\n",
    "    Create a convolutional neural network model\n",
    "    : x: Placeholder tensor that holds image data.\n",
    "    : keep_prob: Placeholder tensor that hold dropout keep probability.\n",
    "    : return: Tensor that represents logits\n",
    "    \"\"\"\n",
    "        \n",
    "    # TODO: Apply 1, 2, or 3 Convolution and Max Pool layers\n",
    "    #    Play around with different number of outputs, kernel size and stride\n",
    "    # Function Definition from Above:\n",
    "    conv_ksize = (3,3)\n",
    "    conv_strides = (1,1)\n",
    "    pool_ksize = (2,2)\n",
    "    pool_strides = (2,2)\n",
    "    conv_num_outputs = 12\n",
    "    x_tensor = conv2d_maxpool(x_tensor, conv_num_outputs, conv_ksize, conv_strides, pool_ksize, pool_strides)\n",
    "    conv_num_outputs = 4\n",
    "    x_tensor = conv2d_maxpool(x_tensor, conv_num_outputs, conv_ksize, conv_strides, pool_ksize, pool_strides)\n",
    "    x_tensor = tf.nn.dropout(x_tensor, keep_prob)\n",
    "\n",
    "\n",
    "    # TODO: Apply a Flatten Layer\n",
    "    # Function Definition from Above:\n",
    "    x_tensor = flatten(x_tensor)\n",
    "    \n",
    "\n",
    "    # TODO: Apply 1, 2, or 3 Fully Connected Layers\n",
    "    #    Play around with different number of outputs\n",
    "    # Function Definition from Above:\n",
    "    num_outputs = 64\n",
    "    x_tensor = fully_conn(x_tensor, num_outputs)\n",
    "\n",
    "    x_tensor = tf.nn.dropout(x_tensor, keep_prob)\n",
    "    \n",
    "    num_outputs = 15\n",
    "    x_tensor = fully_conn(x_tensor, num_outputs)\n",
    "    \n",
    "    \n",
    "    # TODO: Apply an Output Layer\n",
    "    #    Set this to the number of classes\n",
    "    # Function Definition from Above:\n",
    "    num_outputs = 10\n",
    "\n",
    "    x_tensor = output(x_tensor, num_outputs)\n",
    "    \n",
    "    \n",
    "    # TODO: return output\n",
    "    return x_tensor\n",
    "\n",
    "\n",
    "\"\"\"\n",
    "DON'T MODIFY ANYTHING IN THIS CELL THAT IS BELOW THIS LINE\n",
    "\"\"\"\n",
    "\n",
    "##############################\n",
    "## Build the Neural Network ##\n",
    "##############################\n",
    "\n",
    "# Remove previous weights, bias, inputs, etc..\n",
    "tf.reset_default_graph()\n",
    "\n",
    "# Inputs\n",
    "x = neural_net_image_input((32, 32, 3))\n",
    "y = neural_net_label_input(10)\n",
    "keep_prob = neural_net_keep_prob_input()\n",
    "\n",
    "# Model\n",
    "logits = conv_net(x, keep_prob)\n",
    "\n",
    "# Name logits Tensor, so that is can be loaded from disk after training\n",
    "logits = tf.identity(logits, name='logits')\n",
    "\n",
    "# Loss and Optimizer\n",
    "cost = tf.reduce_mean(tf.nn.softmax_cross_entropy_with_logits(logits=logits, labels=y))\n",
    "optimizer = tf.train.AdamOptimizer().minimize(cost)\n",
    "\n",
    "# Accuracy\n",
    "correct_pred = tf.equal(tf.argmax(logits, 1), tf.argmax(y, 1))\n",
    "accuracy = tf.reduce_mean(tf.cast(correct_pred, tf.float32), name='accuracy')\n",
    "\n",
    "tests.test_conv_net(conv_net)"
   ]
  },
  {
   "cell_type": "markdown",
   "metadata": {
    "deletable": true,
    "editable": true
   },
   "source": [
    "## Train the Neural Network\n",
    "### Single Optimization\n",
    "Implement the function `train_neural_network` to do a single optimization.  The optimization should use `optimizer` to optimize in `session` with a `feed_dict` of the following:\n",
    "* `x` for image input\n",
    "* `y` for labels\n",
    "* `keep_prob` for keep probability for dropout\n",
    "\n",
    "This function will be called for each batch, so `tf.global_variables_initializer()` has already been called.\n",
    "\n",
    "Note: Nothing needs to be returned. This function is only optimizing the neural network."
   ]
  },
  {
   "cell_type": "code",
   "execution_count": 38,
   "metadata": {
    "collapsed": false,
    "deletable": true,
    "editable": true
   },
   "outputs": [
    {
     "name": "stdout",
     "output_type": "stream",
     "text": [
      "Tests Passed\n"
     ]
    }
   ],
   "source": [
    "def train_neural_network(session, optimizer, keep_probability, feature_batch, label_batch):\n",
    "    \"\"\"\n",
    "    Optimize the session on a batch of images and labels\n",
    "    : session: Current TensorFlow session\n",
    "    : optimizer: TensorFlow optimizer function\n",
    "    : keep_probability: keep probability\n",
    "    : feature_batch: Batch of Numpy image data\n",
    "    : label_batch: Batch of Numpy label data\n",
    "    \"\"\"\n",
    "    # TODO: Implement Function\n",
    "    session.run(optimizer, feed_dict = {\n",
    "        x: feature_batch,\n",
    "        y: label_batch,\n",
    "        keep_prob: keep_probability\n",
    "    })\n",
    "\n",
    "\n",
    "\"\"\"\n",
    "DON'T MODIFY ANYTHING IN THIS CELL THAT IS BELOW THIS LINE\n",
    "\"\"\"\n",
    "tests.test_train_nn(train_neural_network)"
   ]
  },
  {
   "cell_type": "markdown",
   "metadata": {
    "deletable": true,
    "editable": true
   },
   "source": [
    "### Show Stats\n",
    "Implement the function `print_stats` to print loss and validation accuracy.  Use the global variables `valid_features` and `valid_labels` to calculate validation accuracy.  Use a keep probability of `1.0` to calculate the loss and validation accuracy."
   ]
  },
  {
   "cell_type": "code",
   "execution_count": 55,
   "metadata": {
    "collapsed": false,
    "deletable": true,
    "editable": true
   },
   "outputs": [],
   "source": [
    "def print_stats(session, feature_batch, label_batch, cost, accuracy):\n",
    "    \"\"\"\n",
    "    Print information about loss and validation accuracy\n",
    "    : session: Current TensorFlow session\n",
    "    : feature_batch: Batch of Numpy image data\n",
    "    : label_batch: Batch of Numpy label data\n",
    "    : cost: TensorFlow cost function\n",
    "    : accuracy: TensorFlow accuracy function\n",
    "    \"\"\"\n",
    "    # TODO: Implement Function    \n",
    "    loss = sess.run(cost, feed_dict={\n",
    "        x: feature_batch,\n",
    "        y: label_batch,\n",
    "        keep_prob: 1.})\n",
    "    valid_acc = sess.run(accuracy, feed_dict={\n",
    "        x: valid_features,\n",
    "        y: valid_labels,\n",
    "        keep_prob: 1.})\n",
    "\n",
    "    print('Loss: {} Validation Accuracy: {}'.format(\n",
    "        loss,\n",
    "        valid_acc))\n"
   ]
  },
  {
   "cell_type": "markdown",
   "metadata": {
    "deletable": true,
    "editable": true
   },
   "source": [
    "### Hyperparameters\n",
    "Tune the following parameters:\n",
    "* Set `epochs` to the number of iterations until the network stops learning or start overfitting\n",
    "* Set `batch_size` to the highest number that your machine has memory for.  Most people set them to common sizes of memory:\n",
    " * 64\n",
    " * 128\n",
    " * 256\n",
    " * ...\n",
    "* Set `keep_probability` to the probability of keeping a node using dropout"
   ]
  },
  {
   "cell_type": "code",
   "execution_count": 75,
   "metadata": {
    "collapsed": true,
    "deletable": true,
    "editable": true
   },
   "outputs": [],
   "source": [
    "# TODO: Tune Parameters\n",
    "epochs = 30\n",
    "batch_size = 128\n",
    "keep_probability = .8"
   ]
  },
  {
   "cell_type": "markdown",
   "metadata": {
    "deletable": true,
    "editable": true
   },
   "source": [
    "### Train on a Single CIFAR-10 Batch\n",
    "Instead of training the neural network on all the CIFAR-10 batches of data, let's use a single batch. This should save time while you iterate on the model to get a better accuracy.  Once the final validation accuracy is 50% or greater, run the model on all the data in the next section."
   ]
  },
  {
   "cell_type": "code",
   "execution_count": 80,
   "metadata": {
    "collapsed": false,
    "deletable": true,
    "editable": true
   },
   "outputs": [
    {
     "name": "stdout",
     "output_type": "stream",
     "text": [
      "Checking the Training on a Single Batch...\n",
      "Epoch  1, CIFAR-10 Batch 1:  Loss: 2.33161997795105 Validation Accuracy: 0.12060000002384186\n",
      "Epoch  2, CIFAR-10 Batch 1:  Loss: 2.3044207096099854 Validation Accuracy: 0.12959998846054077\n",
      "Epoch  3, CIFAR-10 Batch 1:  Loss: 2.2627766132354736 Validation Accuracy: 0.16379998624324799\n",
      "Epoch  4, CIFAR-10 Batch 1:  Loss: 2.183323621749878 Validation Accuracy: 0.21160000562667847\n",
      "Epoch  5, CIFAR-10 Batch 1:  Loss: 2.0402886867523193 Validation Accuracy: 0.23880000412464142\n",
      "Epoch  6, CIFAR-10 Batch 1:  Loss: 1.9712657928466797 Validation Accuracy: 0.25779998302459717\n",
      "Epoch  7, CIFAR-10 Batch 1:  Loss: 1.9014829397201538 Validation Accuracy: 0.28119999170303345\n",
      "Epoch  8, CIFAR-10 Batch 1:  Loss: 1.8578535318374634 Validation Accuracy: 0.3100000023841858\n",
      "Epoch  9, CIFAR-10 Batch 1:  Loss: 1.816114902496338 Validation Accuracy: 0.32679998874664307\n",
      "Epoch 10, CIFAR-10 Batch 1:  Loss: 1.7699060440063477 Validation Accuracy: 0.3330000042915344\n",
      "Epoch 11, CIFAR-10 Batch 1:  Loss: 1.725525140762329 Validation Accuracy: 0.3571999967098236\n",
      "Epoch 12, CIFAR-10 Batch 1:  Loss: 1.6937897205352783 Validation Accuracy: 0.3594000041484833\n",
      "Epoch 13, CIFAR-10 Batch 1:  Loss: 1.6204626560211182 Validation Accuracy: 0.36500000953674316\n",
      "Epoch 14, CIFAR-10 Batch 1:  Loss: 1.5779879093170166 Validation Accuracy: 0.3733999729156494\n",
      "Epoch 15, CIFAR-10 Batch 1:  Loss: 1.5672893524169922 Validation Accuracy: 0.37999996542930603\n",
      "Epoch 16, CIFAR-10 Batch 1:  Loss: 1.5277695655822754 Validation Accuracy: 0.387800008058548\n",
      "Epoch 17, CIFAR-10 Batch 1:  Loss: 1.4770277738571167 Validation Accuracy: 0.39079999923706055\n",
      "Epoch 18, CIFAR-10 Batch 1:  Loss: 1.4626842737197876 Validation Accuracy: 0.39399996399879456\n",
      "Epoch 19, CIFAR-10 Batch 1:  Loss: 1.40455961227417 Validation Accuracy: 0.392799973487854\n",
      "Epoch 20, CIFAR-10 Batch 1:  Loss: 1.4291293621063232 Validation Accuracy: 0.40259993076324463\n",
      "Epoch 21, CIFAR-10 Batch 1:  Loss: 1.4016244411468506 Validation Accuracy: 0.4009999632835388\n",
      "Epoch 22, CIFAR-10 Batch 1:  Loss: 1.3533010482788086 Validation Accuracy: 0.40640002489089966\n",
      "Epoch 23, CIFAR-10 Batch 1:  Loss: 1.3347902297973633 Validation Accuracy: 0.41419994831085205\n",
      "Epoch 24, CIFAR-10 Batch 1:  Loss: 1.3079103231430054 Validation Accuracy: 0.4115999639034271\n",
      "Epoch 25, CIFAR-10 Batch 1:  Loss: 1.3001619577407837 Validation Accuracy: 0.4171999990940094\n",
      "Epoch 26, CIFAR-10 Batch 1:  Loss: 1.2560365200042725 Validation Accuracy: 0.42159995436668396\n",
      "Epoch 27, CIFAR-10 Batch 1:  Loss: 1.2650172710418701 Validation Accuracy: 0.42159995436668396\n",
      "Epoch 28, CIFAR-10 Batch 1:  Loss: 1.1794979572296143 Validation Accuracy: 0.4283999800682068\n",
      "Epoch 29, CIFAR-10 Batch 1:  Loss: 1.1480439901351929 Validation Accuracy: 0.43139997124671936\n",
      "Epoch 30, CIFAR-10 Batch 1:  Loss: 1.1175955533981323 Validation Accuracy: 0.4341999888420105\n"
     ]
    }
   ],
   "source": [
    "\"\"\"\n",
    "DON'T MODIFY ANYTHING IN THIS CELL\n",
    "\"\"\"\n",
    "print('Checking the Training on a Single Batch...')\n",
    "with tf.Session() as sess:\n",
    "    # Initializing the variables\n",
    "    sess.run(tf.global_variables_initializer())\n",
    "    \n",
    "    # Training cycle\n",
    "    for epoch in range(epochs):\n",
    "        batch_i = 1\n",
    "        for batch_features, batch_labels in helper.load_preprocess_training_batch(batch_i, batch_size):\n",
    "            train_neural_network(sess, optimizer, keep_probability, batch_features, batch_labels)\n",
    "        print('Epoch {:>2}, CIFAR-10 Batch {}:  '.format(epoch + 1, batch_i), end='')\n",
    "        print_stats(sess, batch_features, batch_labels, cost, accuracy)"
   ]
  },
  {
   "cell_type": "markdown",
   "metadata": {
    "deletable": true,
    "editable": true
   },
   "source": [
    "### Fully Train the Model\n",
    "Now that you got a good accuracy with a single CIFAR-10 batch, try it with all five batches."
   ]
  },
  {
   "cell_type": "code",
   "execution_count": 77,
   "metadata": {
    "collapsed": false,
    "deletable": true,
    "editable": true
   },
   "outputs": [
    {
     "name": "stdout",
     "output_type": "stream",
     "text": [
      "Training...\n",
      "Epoch  1, CIFAR-10 Batch 1:  Loss: 2.2702181339263916 Validation Accuracy: 0.0973999947309494\n",
      "Epoch  1, CIFAR-10 Batch 2:  Loss: 2.3130931854248047 Validation Accuracy: 0.11239999532699585\n",
      "Epoch  1, CIFAR-10 Batch 3:  Loss: 2.2592756748199463 Validation Accuracy: 0.13659998774528503\n",
      "Epoch  1, CIFAR-10 Batch 4:  Loss: 2.2785284519195557 Validation Accuracy: 0.14640000462532043\n",
      "Epoch  1, CIFAR-10 Batch 5:  Loss: 2.1972808837890625 Validation Accuracy: 0.16759997606277466\n",
      "Epoch  2, CIFAR-10 Batch 1:  Loss: 2.018150806427002 Validation Accuracy: 0.20040000975131989\n",
      "Epoch  2, CIFAR-10 Batch 2:  Loss: 2.1412625312805176 Validation Accuracy: 0.23979999125003815\n",
      "Epoch  2, CIFAR-10 Batch 3:  Loss: 2.0596063137054443 Validation Accuracy: 0.2694000005722046\n",
      "Epoch  2, CIFAR-10 Batch 4:  Loss: 1.8906065225601196 Validation Accuracy: 0.3077999949455261\n",
      "Epoch  2, CIFAR-10 Batch 5:  Loss: 1.9248576164245605 Validation Accuracy: 0.3189999461174011\n",
      "Epoch  3, CIFAR-10 Batch 1:  Loss: 2.1246652603149414 Validation Accuracy: 0.33159998059272766\n",
      "Epoch  3, CIFAR-10 Batch 2:  Loss: 2.021793842315674 Validation Accuracy: 0.3452000021934509\n",
      "Epoch  3, CIFAR-10 Batch 3:  Loss: 1.6944143772125244 Validation Accuracy: 0.35019996762275696\n",
      "Epoch  3, CIFAR-10 Batch 4:  Loss: 1.699789047241211 Validation Accuracy: 0.35839998722076416\n",
      "Epoch  3, CIFAR-10 Batch 5:  Loss: 1.7751017808914185 Validation Accuracy: 0.3693999648094177\n",
      "Epoch  4, CIFAR-10 Batch 1:  Loss: 1.9984498023986816 Validation Accuracy: 0.3659999668598175\n",
      "Epoch  4, CIFAR-10 Batch 2:  Loss: 1.8039681911468506 Validation Accuracy: 0.37939998507499695\n",
      "Epoch  4, CIFAR-10 Batch 3:  Loss: 1.5578157901763916 Validation Accuracy: 0.39020001888275146\n",
      "Epoch  4, CIFAR-10 Batch 4:  Loss: 1.5970962047576904 Validation Accuracy: 0.3889999985694885\n",
      "Epoch  4, CIFAR-10 Batch 5:  Loss: 1.6847014427185059 Validation Accuracy: 0.3933999538421631\n",
      "Epoch  5, CIFAR-10 Batch 1:  Loss: 1.9013690948486328 Validation Accuracy: 0.39319998025894165\n",
      "Epoch  5, CIFAR-10 Batch 2:  Loss: 1.7612040042877197 Validation Accuracy: 0.4065999686717987\n",
      "Epoch  5, CIFAR-10 Batch 3:  Loss: 1.497090458869934 Validation Accuracy: 0.40379998087882996\n",
      "Epoch  5, CIFAR-10 Batch 4:  Loss: 1.554047703742981 Validation Accuracy: 0.41600000858306885\n",
      "Epoch  5, CIFAR-10 Batch 5:  Loss: 1.6118407249450684 Validation Accuracy: 0.4163999557495117\n",
      "Epoch  6, CIFAR-10 Batch 1:  Loss: 1.823885202407837 Validation Accuracy: 0.4121999740600586\n",
      "Epoch  6, CIFAR-10 Batch 2:  Loss: 1.7343031167984009 Validation Accuracy: 0.425199955701828\n",
      "Epoch  6, CIFAR-10 Batch 3:  Loss: 1.4075472354888916 Validation Accuracy: 0.42059993743896484\n",
      "Epoch  6, CIFAR-10 Batch 4:  Loss: 1.5170209407806396 Validation Accuracy: 0.43059995770454407\n",
      "Epoch  6, CIFAR-10 Batch 5:  Loss: 1.592864990234375 Validation Accuracy: 0.4267999529838562\n",
      "Epoch  7, CIFAR-10 Batch 1:  Loss: 1.7535712718963623 Validation Accuracy: 0.436599999666214\n",
      "Epoch  7, CIFAR-10 Batch 2:  Loss: 1.6898996829986572 Validation Accuracy: 0.4333999752998352\n",
      "Epoch  7, CIFAR-10 Batch 3:  Loss: 1.3693819046020508 Validation Accuracy: 0.4349999725818634\n",
      "Epoch  7, CIFAR-10 Batch 4:  Loss: 1.4890053272247314 Validation Accuracy: 0.4419999420642853\n",
      "Epoch  7, CIFAR-10 Batch 5:  Loss: 1.579142689704895 Validation Accuracy: 0.4333999752998352\n",
      "Epoch  8, CIFAR-10 Batch 1:  Loss: 1.6349468231201172 Validation Accuracy: 0.4511999487876892\n",
      "Epoch  8, CIFAR-10 Batch 2:  Loss: 1.6529431343078613 Validation Accuracy: 0.4447999894618988\n",
      "Epoch  8, CIFAR-10 Batch 3:  Loss: 1.3621935844421387 Validation Accuracy: 0.44739997386932373\n",
      "Epoch  8, CIFAR-10 Batch 4:  Loss: 1.4728035926818848 Validation Accuracy: 0.45339998602867126\n",
      "Epoch  8, CIFAR-10 Batch 5:  Loss: 1.5243408679962158 Validation Accuracy: 0.45259997248649597\n",
      "Epoch  9, CIFAR-10 Batch 1:  Loss: 1.5582304000854492 Validation Accuracy: 0.4575999677181244\n",
      "Epoch  9, CIFAR-10 Batch 2:  Loss: 1.5958389043807983 Validation Accuracy: 0.4503999650478363\n",
      "Epoch  9, CIFAR-10 Batch 3:  Loss: 1.3392324447631836 Validation Accuracy: 0.4544000029563904\n",
      "Epoch  9, CIFAR-10 Batch 4:  Loss: 1.4336317777633667 Validation Accuracy: 0.45719999074935913\n",
      "Epoch  9, CIFAR-10 Batch 5:  Loss: 1.5121561288833618 Validation Accuracy: 0.4591999351978302\n",
      "Epoch 10, CIFAR-10 Batch 1:  Loss: 1.5703233480453491 Validation Accuracy: 0.46299993991851807\n",
      "Epoch 10, CIFAR-10 Batch 2:  Loss: 1.5473759174346924 Validation Accuracy: 0.46039995551109314\n",
      "Epoch 10, CIFAR-10 Batch 3:  Loss: 1.2800359725952148 Validation Accuracy: 0.45899996161460876\n",
      "Epoch 10, CIFAR-10 Batch 4:  Loss: 1.4208877086639404 Validation Accuracy: 0.4713999629020691\n",
      "Epoch 10, CIFAR-10 Batch 5:  Loss: 1.487119436264038 Validation Accuracy: 0.4607999622821808\n",
      "Epoch 11, CIFAR-10 Batch 1:  Loss: 1.5544724464416504 Validation Accuracy: 0.47039997577667236\n",
      "Epoch 11, CIFAR-10 Batch 2:  Loss: 1.4860302209854126 Validation Accuracy: 0.47359994053840637\n",
      "Epoch 11, CIFAR-10 Batch 3:  Loss: 1.3351484537124634 Validation Accuracy: 0.4731999933719635\n",
      "Epoch 11, CIFAR-10 Batch 4:  Loss: 1.404484510421753 Validation Accuracy: 0.4798000156879425\n",
      "Epoch 11, CIFAR-10 Batch 5:  Loss: 1.464231014251709 Validation Accuracy: 0.4705999493598938\n",
      "Epoch 12, CIFAR-10 Batch 1:  Loss: 1.4924441576004028 Validation Accuracy: 0.4745999574661255\n",
      "Epoch 12, CIFAR-10 Batch 2:  Loss: 1.4328937530517578 Validation Accuracy: 0.48159998655319214\n",
      "Epoch 12, CIFAR-10 Batch 3:  Loss: 1.3130732774734497 Validation Accuracy: 0.4771999716758728\n",
      "Epoch 12, CIFAR-10 Batch 4:  Loss: 1.3608568906784058 Validation Accuracy: 0.4777999520301819\n",
      "Epoch 12, CIFAR-10 Batch 5:  Loss: 1.448730230331421 Validation Accuracy: 0.47659996151924133\n",
      "Epoch 13, CIFAR-10 Batch 1:  Loss: 1.460411548614502 Validation Accuracy: 0.4843999743461609\n",
      "Epoch 13, CIFAR-10 Batch 2:  Loss: 1.3922514915466309 Validation Accuracy: 0.48399996757507324\n",
      "Epoch 13, CIFAR-10 Batch 3:  Loss: 1.2739059925079346 Validation Accuracy: 0.4801999628543854\n",
      "Epoch 13, CIFAR-10 Batch 4:  Loss: 1.3489975929260254 Validation Accuracy: 0.48879995942115784\n",
      "Epoch 13, CIFAR-10 Batch 5:  Loss: 1.3850207328796387 Validation Accuracy: 0.4875999689102173\n",
      "Epoch 14, CIFAR-10 Batch 1:  Loss: 1.4183235168457031 Validation Accuracy: 0.48959994316101074\n",
      "Epoch 14, CIFAR-10 Batch 2:  Loss: 1.390221118927002 Validation Accuracy: 0.4891999661922455\n",
      "Epoch 14, CIFAR-10 Batch 3:  Loss: 1.2624502182006836 Validation Accuracy: 0.48259997367858887\n",
      "Epoch 14, CIFAR-10 Batch 4:  Loss: 1.3104233741760254 Validation Accuracy: 0.4901999831199646\n",
      "Epoch 14, CIFAR-10 Batch 5:  Loss: 1.3749022483825684 Validation Accuracy: 0.48739999532699585\n",
      "Epoch 15, CIFAR-10 Batch 1:  Loss: 1.3447160720825195 Validation Accuracy: 0.49219992756843567\n",
      "Epoch 15, CIFAR-10 Batch 2:  Loss: 1.330112099647522 Validation Accuracy: 0.4917999505996704\n",
      "Epoch 15, CIFAR-10 Batch 3:  Loss: 1.2678288221359253 Validation Accuracy: 0.4829999804496765\n",
      "Epoch 15, CIFAR-10 Batch 4:  Loss: 1.280942678451538 Validation Accuracy: 0.48979997634887695\n",
      "Epoch 15, CIFAR-10 Batch 5:  Loss: 1.3157340288162231 Validation Accuracy: 0.4931999444961548\n",
      "Epoch 16, CIFAR-10 Batch 1:  Loss: 1.3268535137176514 Validation Accuracy: 0.4943999648094177\n",
      "Epoch 16, CIFAR-10 Batch 2:  Loss: 1.3495490550994873 Validation Accuracy: 0.495199978351593\n",
      "Epoch 16, CIFAR-10 Batch 3:  Loss: 1.2525240182876587 Validation Accuracy: 0.48959997296333313\n",
      "Epoch 16, CIFAR-10 Batch 4:  Loss: 1.2730493545532227 Validation Accuracy: 0.49719998240470886\n",
      "Epoch 16, CIFAR-10 Batch 5:  Loss: 1.315131425857544 Validation Accuracy: 0.4909999370574951\n",
      "Epoch 17, CIFAR-10 Batch 1:  Loss: 1.310838222503662 Validation Accuracy: 0.4965999722480774\n",
      "Epoch 17, CIFAR-10 Batch 2:  Loss: 1.3148956298828125 Validation Accuracy: 0.4981999397277832\n",
      "Epoch 17, CIFAR-10 Batch 3:  Loss: 1.244547724723816 Validation Accuracy: 0.48799997568130493\n",
      "Epoch 17, CIFAR-10 Batch 4:  Loss: 1.248779535293579 Validation Accuracy: 0.501599907875061\n",
      "Epoch 17, CIFAR-10 Batch 5:  Loss: 1.3023561239242554 Validation Accuracy: 0.495199978351593\n",
      "Epoch 18, CIFAR-10 Batch 1:  Loss: 1.3134701251983643 Validation Accuracy: 0.5071999430656433\n",
      "Epoch 18, CIFAR-10 Batch 2:  Loss: 1.242204189300537 Validation Accuracy: 0.4999999403953552\n",
      "Epoch 18, CIFAR-10 Batch 3:  Loss: 1.2069430351257324 Validation Accuracy: 0.4983999729156494\n",
      "Epoch 18, CIFAR-10 Batch 4:  Loss: 1.2433727979660034 Validation Accuracy: 0.5053999423980713\n",
      "Epoch 18, CIFAR-10 Batch 5:  Loss: 1.2698286771774292 Validation Accuracy: 0.494799941778183\n",
      "Epoch 19, CIFAR-10 Batch 1:  Loss: 1.2569551467895508 Validation Accuracy: 0.5025999546051025\n",
      "Epoch 19, CIFAR-10 Batch 2:  Loss: 1.2643764019012451 Validation Accuracy: 0.5057999491691589\n",
      "Epoch 19, CIFAR-10 Batch 3:  Loss: 1.1996833086013794 Validation Accuracy: 0.4973999857902527\n",
      "Epoch 19, CIFAR-10 Batch 4:  Loss: 1.2089152336120605 Validation Accuracy: 0.5013999342918396\n",
      "Epoch 19, CIFAR-10 Batch 5:  Loss: 1.2622392177581787 Validation Accuracy: 0.4995999038219452\n",
      "Epoch 20, CIFAR-10 Batch 1:  Loss: 1.2690273523330688 Validation Accuracy: 0.5051999092102051\n",
      "Epoch 20, CIFAR-10 Batch 2:  Loss: 1.2396308183670044 Validation Accuracy: 0.50819993019104\n",
      "Epoch 20, CIFAR-10 Batch 3:  Loss: 1.1828447580337524 Validation Accuracy: 0.4989999532699585\n",
      "Epoch 20, CIFAR-10 Batch 4:  Loss: 1.2138869762420654 Validation Accuracy: 0.5051999092102051\n",
      "Epoch 20, CIFAR-10 Batch 5:  Loss: 1.242057204246521 Validation Accuracy: 0.50819993019104\n",
      "Epoch 21, CIFAR-10 Batch 1:  Loss: 1.254054069519043 Validation Accuracy: 0.5103999376296997\n",
      "Epoch 21, CIFAR-10 Batch 2:  Loss: 1.2126163244247437 Validation Accuracy: 0.5127999782562256\n",
      "Epoch 21, CIFAR-10 Batch 3:  Loss: 1.1725088357925415 Validation Accuracy: 0.5051999688148499\n",
      "Epoch 21, CIFAR-10 Batch 4:  Loss: 1.1696784496307373 Validation Accuracy: 0.5091999173164368\n",
      "Epoch 21, CIFAR-10 Batch 5:  Loss: 1.2058120965957642 Validation Accuracy: 0.5085999369621277\n",
      "Epoch 22, CIFAR-10 Batch 1:  Loss: 1.2464330196380615 Validation Accuracy: 0.5105999708175659\n",
      "Epoch 22, CIFAR-10 Batch 2:  Loss: 1.1977006196975708 Validation Accuracy: 0.5131999254226685\n",
      "Epoch 22, CIFAR-10 Batch 3:  Loss: 1.1371386051177979 Validation Accuracy: 0.5113999843597412\n",
      "Epoch 22, CIFAR-10 Batch 4:  Loss: 1.1956164836883545 Validation Accuracy: 0.5171999335289001\n",
      "Epoch 22, CIFAR-10 Batch 5:  Loss: 1.2247283458709717 Validation Accuracy: 0.5051999688148499\n",
      "Epoch 23, CIFAR-10 Batch 1:  Loss: 1.2256436347961426 Validation Accuracy: 0.517799973487854\n",
      "Epoch 23, CIFAR-10 Batch 2:  Loss: 1.1496210098266602 Validation Accuracy: 0.5191999077796936\n",
      "Epoch 23, CIFAR-10 Batch 3:  Loss: 1.1098637580871582 Validation Accuracy: 0.5153999328613281\n",
      "Epoch 23, CIFAR-10 Batch 4:  Loss: 1.173802137374878 Validation Accuracy: 0.5173999667167664\n",
      "Epoch 23, CIFAR-10 Batch 5:  Loss: 1.2023823261260986 Validation Accuracy: 0.5099999904632568\n",
      "Epoch 24, CIFAR-10 Batch 1:  Loss: 1.1811655759811401 Validation Accuracy: 0.5143999457359314\n",
      "Epoch 24, CIFAR-10 Batch 2:  Loss: 1.1818726062774658 Validation Accuracy: 0.5135999321937561\n",
      "Epoch 24, CIFAR-10 Batch 3:  Loss: 1.1213815212249756 Validation Accuracy: 0.5109999179840088\n",
      "Epoch 24, CIFAR-10 Batch 4:  Loss: 1.1623756885528564 Validation Accuracy: 0.5179999470710754\n",
      "Epoch 24, CIFAR-10 Batch 5:  Loss: 1.1812644004821777 Validation Accuracy: 0.5113999247550964\n",
      "Epoch 25, CIFAR-10 Batch 1:  Loss: 1.1733993291854858 Validation Accuracy: 0.5181999802589417\n",
      "Epoch 25, CIFAR-10 Batch 2:  Loss: 1.1163828372955322 Validation Accuracy: 0.5209999084472656\n",
      "Epoch 25, CIFAR-10 Batch 3:  Loss: 1.1159069538116455 Validation Accuracy: 0.5185999870300293\n",
      "Epoch 25, CIFAR-10 Batch 4:  Loss: 1.1593518257141113 Validation Accuracy: 0.5213999152183533\n",
      "Epoch 25, CIFAR-10 Batch 5:  Loss: 1.1855210065841675 Validation Accuracy: 0.5155999660491943\n",
      "Epoch 26, CIFAR-10 Batch 1:  Loss: 1.1630607843399048 Validation Accuracy: 0.5221999883651733\n",
      "Epoch 26, CIFAR-10 Batch 2:  Loss: 1.1497249603271484 Validation Accuracy: 0.5167999267578125\n",
      "Epoch 26, CIFAR-10 Batch 3:  Loss: 1.0834364891052246 Validation Accuracy: 0.5224000215530396\n",
      "Epoch 26, CIFAR-10 Batch 4:  Loss: 1.142668604850769 Validation Accuracy: 0.5161999464035034\n",
      "Epoch 26, CIFAR-10 Batch 5:  Loss: 1.1543822288513184 Validation Accuracy: 0.5157999396324158\n",
      "Epoch 27, CIFAR-10 Batch 1:  Loss: 1.1465040445327759 Validation Accuracy: 0.5273999571800232\n",
      "Epoch 27, CIFAR-10 Batch 2:  Loss: 1.1180213689804077 Validation Accuracy: 0.5257999300956726\n",
      "Epoch 27, CIFAR-10 Batch 3:  Loss: 1.0874700546264648 Validation Accuracy: 0.5259999632835388\n",
      "Epoch 27, CIFAR-10 Batch 4:  Loss: 1.1099337339401245 Validation Accuracy: 0.5225999355316162\n",
      "Epoch 27, CIFAR-10 Batch 5:  Loss: 1.1492220163345337 Validation Accuracy: 0.5231999158859253\n",
      "Epoch 28, CIFAR-10 Batch 1:  Loss: 1.1263841390609741 Validation Accuracy: 0.5287999510765076\n",
      "Epoch 28, CIFAR-10 Batch 2:  Loss: 1.0986912250518799 Validation Accuracy: 0.5277999639511108\n",
      "Epoch 28, CIFAR-10 Batch 3:  Loss: 1.068817377090454 Validation Accuracy: 0.5237998962402344\n",
      "Epoch 28, CIFAR-10 Batch 4:  Loss: 1.1408991813659668 Validation Accuracy: 0.5249999761581421\n",
      "Epoch 28, CIFAR-10 Batch 5:  Loss: 1.169559359550476 Validation Accuracy: 0.5197999477386475\n",
      "Epoch 29, CIFAR-10 Batch 1:  Loss: 1.1154776811599731 Validation Accuracy: 0.5249999165534973\n",
      "Epoch 29, CIFAR-10 Batch 2:  Loss: 1.0967515707015991 Validation Accuracy: 0.525999903678894\n",
      "Epoch 29, CIFAR-10 Batch 3:  Loss: 1.073716402053833 Validation Accuracy: 0.525399923324585\n",
      "Epoch 29, CIFAR-10 Batch 4:  Loss: 1.0908210277557373 Validation Accuracy: 0.5263999104499817\n",
      "Epoch 29, CIFAR-10 Batch 5:  Loss: 1.124003529548645 Validation Accuracy: 0.5233999490737915\n",
      "Epoch 30, CIFAR-10 Batch 1:  Loss: 1.0993225574493408 Validation Accuracy: 0.5241999626159668\n",
      "Epoch 30, CIFAR-10 Batch 2:  Loss: 1.0797638893127441 Validation Accuracy: 0.5231999158859253\n",
      "Epoch 30, CIFAR-10 Batch 3:  Loss: 1.0563373565673828 Validation Accuracy: 0.5243999361991882\n",
      "Epoch 30, CIFAR-10 Batch 4:  Loss: 1.1287657022476196 Validation Accuracy: 0.5281999707221985\n",
      "Epoch 30, CIFAR-10 Batch 5:  Loss: 1.1080812215805054 Validation Accuracy: 0.5237999558448792\n"
     ]
    }
   ],
   "source": [
    "\"\"\"\n",
    "DON'T MODIFY ANYTHING IN THIS CELL\n",
    "\"\"\"\n",
    "save_model_path = './image_classification'\n",
    "\n",
    "print('Training...')\n",
    "with tf.Session() as sess:\n",
    "    # Initializing the variables\n",
    "    sess.run(tf.global_variables_initializer())\n",
    "    \n",
    "    # Training cycle\n",
    "    for epoch in range(epochs):\n",
    "        # Loop over all batches\n",
    "        n_batches = 5\n",
    "        for batch_i in range(1, n_batches + 1):\n",
    "            for batch_features, batch_labels in helper.load_preprocess_training_batch(batch_i, batch_size):\n",
    "                train_neural_network(sess, optimizer, keep_probability, batch_features, batch_labels)\n",
    "            print('Epoch {:>2}, CIFAR-10 Batch {}:  '.format(epoch + 1, batch_i), end='')\n",
    "            print_stats(sess, batch_features, batch_labels, cost, accuracy)\n",
    "            \n",
    "    # Save Model\n",
    "    saver = tf.train.Saver()\n",
    "    save_path = saver.save(sess, save_model_path)"
   ]
  },
  {
   "cell_type": "markdown",
   "metadata": {
    "deletable": true,
    "editable": true
   },
   "source": [
    "# Checkpoint\n",
    "The model has been saved to disk.\n",
    "## Test Model\n",
    "Test your model against the test dataset.  This will be your final accuracy. You should have an accuracy greater than 50%. If you don't, keep tweaking the model architecture and parameters."
   ]
  },
  {
   "cell_type": "code",
   "execution_count": 78,
   "metadata": {
    "collapsed": false,
    "deletable": true,
    "editable": true
   },
   "outputs": [
    {
     "name": "stdout",
     "output_type": "stream",
     "text": [
      "Testing Accuracy: 0.5130537974683544\n",
      "\n"
     ]
    },
    {
     "data": {
      "image/png": "[encoded data removed]",
      "text/plain": [
       "<matplotlib.figure.Figure at 0x7ffa88ceeb00>"
      ]
     },
     "metadata": {
      "image/png": {
       "height": 319,
       "width": 355
      }
     },
     "output_type": "display_data"
    }
   ],
   "source": [
    "\"\"\"\n",
    "DON'T MODIFY ANYTHING IN THIS CELL\n",
    "\"\"\"\n",
    "%matplotlib inline\n",
    "%config InlineBackend.figure_format = 'retina'\n",
    "\n",
    "import tensorflow as tf\n",
    "import pickle\n",
    "import helper\n",
    "import random\n",
    "\n",
    "# Set batch size if not already set\n",
    "try:\n",
    "    if batch_size:\n",
    "        pass\n",
    "except NameError:\n",
    "    batch_size = 64\n",
    "\n",
    "save_model_path = './image_classification'\n",
    "n_samples = 4\n",
    "top_n_predictions = 3\n",
    "\n",
    "def test_model():\n",
    "    \"\"\"\n",
    "    Test the saved model against the test dataset\n",
    "    \"\"\"\n",
    "\n",
    "    test_features, test_labels = pickle.load(open('preprocess_training.p', mode='rb'))\n",
    "    loaded_graph = tf.Graph()\n",
    "\n",
    "    with tf.Session(graph=loaded_graph) as sess:\n",
    "        # Load model\n",
    "        loader = tf.train.import_meta_graph(save_model_path + '.meta')\n",
    "        loader.restore(sess, save_model_path)\n",
    "\n",
    "        # Get Tensors from loaded model\n",
    "        loaded_x = loaded_graph.get_tensor_by_name('x:0')\n",
    "        loaded_y = loaded_graph.get_tensor_by_name('y:0')\n",
    "        loaded_keep_prob = loaded_graph.get_tensor_by_name('keep_prob:0')\n",
    "        loaded_logits = loaded_graph.get_tensor_by_name('logits:0')\n",
    "        loaded_acc = loaded_graph.get_tensor_by_name('accuracy:0')\n",
    "        \n",
    "        # Get accuracy in batches for memory limitations\n",
    "        test_batch_acc_total = 0\n",
    "        test_batch_count = 0\n",
    "        \n",
    "        for train_feature_batch, train_label_batch in helper.batch_features_labels(test_features, test_labels, batch_size):\n",
    "            test_batch_acc_total += sess.run(\n",
    "                loaded_acc,\n",
    "                feed_dict={loaded_x: train_feature_batch, loaded_y: train_label_batch, loaded_keep_prob: 1.0})\n",
    "            test_batch_count += 1\n",
    "\n",
    "        print('Testing Accuracy: {}\\n'.format(test_batch_acc_total/test_batch_count))\n",
    "\n",
    "        # Print Random Samples\n",
    "        random_test_features, random_test_labels = tuple(zip(*random.sample(list(zip(test_features, test_labels)), n_samples)))\n",
    "        random_test_predictions = sess.run(\n",
    "            tf.nn.top_k(tf.nn.softmax(loaded_logits), top_n_predictions),\n",
    "            feed_dict={loaded_x: random_test_features, loaded_y: random_test_labels, loaded_keep_prob: 1.0})\n",
    "        helper.display_image_predictions(random_test_features, random_test_labels, random_test_predictions)\n",
    "\n",
    "\n",
    "test_model()"
   ]
  },
  {
   "cell_type": "markdown",
   "metadata": {
    "deletable": true,
    "editable": true
   },
   "source": [
    "## Why 50-80% Accuracy?\n",
    "You might be wondering why you can't get an accuracy any higher. First things first, 50% isn't bad for a simple CNN.  Pure guessing would get you 10% accuracy. However, you might notice people are getting scores [well above 80%](http://rodrigob.github.io/are_we_there_yet/build/classification_datasets_results.html#43494641522d3130).  That's because we haven't taught you all there is to know about neural networks. We still need to cover a few more techniques.\n",
    "## Submitting This Project\n",
    "When submitting this project, make sure to run all the cells before saving the notebook.  Save the notebook file as \"dlnd_image_classification.ipynb\" and save it as a HTML file under \"File\" -> \"Download as\".  Include the \"helper.py\" and \"problem_unittests.py\" files in your submission."
   ]
  }
 ],
 "metadata": {
  "kernelspec": {
   "display_name": "Python 3",
   "language": "python",
   "name": "python3"
  },
  "language_info": {
   "codemirror_mode": {
    "name": "ipython",
    "version": 3
   },
   "file_extension": ".py",
   "mimetype": "text/x-python",
   "name": "python",
   "nbconvert_exporter": "python",
   "pygments_lexer": "ipython3",
   "version": "3.5.2"
  }
 },
 "nbformat": 4,
 "nbformat_minor": 0
}
