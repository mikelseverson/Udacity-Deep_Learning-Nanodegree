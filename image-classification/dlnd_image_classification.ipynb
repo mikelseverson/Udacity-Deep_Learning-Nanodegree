{
 "cells": [
  {
   "cell_type": "markdown",
   "metadata": {
    "collapsed": true,
    "deletable": true,
    "editable": true
   },
   "source": [
    "# Image Classification\n",
    "In this project, you'll classify images from the [CIFAR-10 dataset](https://www.cs.toronto.edu/~kriz/cifar.html).  The dataset consists of airplanes, dogs, cats, and other objects. You'll preprocess the images, then train a convolutional neural network on all the samples. The images need to be normalized and the labels need to be one-hot encoded.  You'll get to apply what you learned and build a convolutional, max pooling, dropout, and fully connected layers.  At the end, you'll get to see your neural network's predictions on the sample images.\n",
    "## Get the Data\n",
    "Run the following cell to download the [CIFAR-10 dataset for python](https://www.cs.toronto.edu/~kriz/cifar-10-python.tar.gz)."
   ]
  },
  {
   "cell_type": "code",
   "execution_count": 1,
   "metadata": {
    "collapsed": false,
    "deletable": true,
    "editable": true
   },
   "outputs": [
    {
     "name": "stdout",
     "output_type": "stream",
     "text": [
      "All files found!\n"
     ]
    }
   ],
   "source": [
    "\"\"\"\n",
    "DON'T MODIFY ANYTHING IN THIS CELL THAT IS BELOW THIS LINE\n",
    "\"\"\"\n",
    "from urllib.request import urlretrieve\n",
    "from os.path import isfile, isdir\n",
    "from tqdm import tqdm\n",
    "import problem_unittests as tests\n",
    "import tarfile\n",
    "\n",
    "cifar10_dataset_folder_path = 'cifar-10-batches-py'\n",
    "\n",
    "class DLProgress(tqdm):\n",
    "    last_block = 0\n",
    "\n",
    "    def hook(self, block_num=1, block_size=1, total_size=None):\n",
    "        self.total = total_size\n",
    "        self.update((block_num - self.last_block) * block_size)\n",
    "        self.last_block = block_num\n",
    "\n",
    "if not isfile('cifar-10-python.tar.gz'):\n",
    "    with DLProgress(unit='B', unit_scale=True, miniters=1, desc='CIFAR-10 Dataset') as pbar:\n",
    "        urlretrieve(\n",
    "            'https://www.cs.toronto.edu/~kriz/cifar-10-python.tar.gz',\n",
    "            'cifar-10-python.tar.gz',\n",
    "            pbar.hook)\n",
    "\n",
    "if not isdir(cifar10_dataset_folder_path):\n",
    "    with tarfile.open('cifar-10-python.tar.gz') as tar:\n",
    "        tar.extractall()\n",
    "        tar.close()\n",
    "\n",
    "\n",
    "tests.test_folder_path(cifar10_dataset_folder_path)"
   ]
  },
  {
   "cell_type": "markdown",
   "metadata": {
    "deletable": true,
    "editable": true
   },
   "source": [
    "## Explore the Data\n",
    "The dataset is broken into batches to prevent your machine from running out of memory.  The CIFAR-10 dataset consists of 5 batches, named `data_batch_1`, `data_batch_2`, etc.. Each batch contains the labels and images that are one of the following:\n",
    "* airplane\n",
    "* automobile\n",
    "* bird\n",
    "* cat\n",
    "* deer\n",
    "* dog\n",
    "* frog\n",
    "* horse\n",
    "* ship\n",
    "* truck\n",
    "\n",
    "Understanding a dataset is part of making predictions on the data.  Play around with the code cell below by changing the `batch_id` and `sample_id`. The `batch_id` is the id for a batch (1-5). The `sample_id` is the id for a image and label pair in the batch.\n",
    "\n",
    "Ask yourself \"What are all possible labels?\", \"What is the range of values for the image data?\", \"Are the labels in order or random?\".  Answers to questions like these will help you preprocess the data and end up with better predictions."
   ]
  },
  {
   "cell_type": "code",
   "execution_count": 2,
   "metadata": {
    "collapsed": false,
    "deletable": true,
    "editable": true
   },
   "outputs": [
    {
     "name": "stdout",
     "output_type": "stream",
     "text": [
      "\n",
      "Stats of batch 4:\n",
      "Samples: 10000\n",
      "Label Counts: {0: 1003, 1: 963, 2: 1041, 3: 976, 4: 1004, 5: 1021, 6: 1004, 7: 981, 8: 1024, 9: 983}\n",
      "First 20 Labels: [0, 6, 0, 2, 7, 2, 1, 2, 4, 1, 5, 6, 6, 3, 1, 3, 5, 5, 8, 1]\n",
      "\n",
      "Example of Image 420:\n",
      "Image - Min Value: 13 Max Value: 255\n",
      "Image - Shape: (32, 32, 3)\n",
      "Label - Label Id: 9 Name: truck\n"
     ]
    },
    {
     "data": {
      "image/png": "[encoded data removed]",
      "text/plain": [
       "<matplotlib.figure.Figure at 0x7fa645b0ce10>"
      ]
     },
     "metadata": {
      "image/png": {
       "height": 250,
       "width": 253
      }
     },
     "output_type": "display_data"
    }
   ],
   "source": [
    "%matplotlib inline\n",
    "%config InlineBackend.figure_format = 'retina'\n",
    "\n",
    "import helper\n",
    "import numpy as np\n",
    "\n",
    "# Explore the dataset\n",
    "batch_id = 4\n",
    "sample_id = 420\n",
    "helper.display_stats(cifar10_dataset_folder_path, batch_id, sample_id)"
   ]
  },
  {
   "cell_type": "markdown",
   "metadata": {
    "deletable": true,
    "editable": true
   },
   "source": [
    "## Implement Preprocess Functions\n",
    "### Normalize\n",
    "In the cell below, implement the `normalize` function to take in image data, `x`, and return it as a normalized Numpy array. The values should be in the range of 0 to 1, inclusive.  The return object should be the same shape as `x`."
   ]
  },
  {
   "cell_type": "code",
   "execution_count": 3,
   "metadata": {
    "collapsed": false,
    "deletable": true,
    "editable": true
   },
   "outputs": [
    {
     "name": "stdout",
     "output_type": "stream",
     "text": [
      "Tests Passed\n"
     ]
    }
   ],
   "source": [
    "def normalize(x):\n",
    "    \"\"\"\n",
    "    Normalize a list of sample image data in the range of 0 to 1\n",
    "    : x: List of image data.  The image shape is (32, 32, 3)\n",
    "    : return: Numpy array of normalize data\n",
    "    \"\"\"\n",
    "\n",
    "    # TODO: Implement Function\n",
    "    mins = np.min(x, axis=0)\n",
    "    maxs = np.max(x, axis=0)\n",
    "    rng = maxs - mins\n",
    "    return 1 - ((maxs - x) / rng)\n",
    "\n",
    "\n",
    "\"\"\"\n",
    "DON'T MODIFY ANYTHING IN THIS CELL THAT IS BELOW THIS LINE\n",
    "\"\"\"\n",
    "tests.test_normalize(normalize)"
   ]
  },
  {
   "cell_type": "markdown",
   "metadata": {
    "deletable": true,
    "editable": true
   },
   "source": [
    "### One-hot encode\n",
    "Just like the previous code cell, you'll be implementing a function for preprocessing.  This time, you'll implement the `one_hot_encode` function. The input, `x`, are a list of labels.  Implement the function to return the list of labels as One-Hot encoded Numpy array.  The possible values for labels are 0 to 9. The one-hot encoding function should return the same encoding for each value between each call to `one_hot_encode`.  Make sure to save the map of encodings outside the function.\n",
    "\n",
    "Hint: Don't reinvent the wheel."
   ]
  },
  {
   "cell_type": "code",
   "execution_count": 4,
   "metadata": {
    "collapsed": false,
    "deletable": true,
    "editable": true
   },
   "outputs": [
    {
     "name": "stdout",
     "output_type": "stream",
     "text": [
      "Tests Passed\n"
     ]
    }
   ],
   "source": [
    "def one_hot_encode(x):\n",
    "    \"\"\"\n",
    "    One hot encode a list of sample labels. Return a one-hot encoded vector for each label.\n",
    "    : x: List of sample Labels\n",
    "    : return: Numpy array of one-hot encoded labels\n",
    "    \"\"\"\n",
    "    a = np.zeros(shape=(len(x),10))\n",
    "    # TODO: Implement Function\n",
    "    for i in range(len(x)):\n",
    "        a[i][x[i]] = 1\n",
    "    return a\n",
    "\"\"\"\n",
    "DON'T MODIFY ANYTHING IN THIS CELL THAT IS BELOW THIS LINE\n",
    "\"\"\"\n",
    "tests.test_one_hot_encode(one_hot_encode)"
   ]
  },
  {
   "cell_type": "markdown",
   "metadata": {
    "deletable": true,
    "editable": true
   },
   "source": [
    "### Randomize Data\n",
    "As you saw from exploring the data above, the order of the samples are randomized.  It doesn't hurt to randomize it again, but you don't need to for this dataset."
   ]
  },
  {
   "cell_type": "markdown",
   "metadata": {
    "deletable": true,
    "editable": true
   },
   "source": [
    "## Preprocess all the data and save it\n",
    "Running the code cell below will preprocess all the CIFAR-10 data and save it to file. The code below also uses 10% of the training data for validation."
   ]
  },
  {
   "cell_type": "code",
   "execution_count": 5,
   "metadata": {
    "collapsed": false,
    "deletable": true,
    "editable": true
   },
   "outputs": [],
   "source": [
    "\"\"\"\n",
    "DON'T MODIFY ANYTHING IN THIS CELL\n",
    "\"\"\"\n",
    "# Preprocess Training, Validation, and Testing Data\n",
    "helper.preprocess_and_save_data(cifar10_dataset_folder_path, normalize, one_hot_encode)"
   ]
  },
  {
   "cell_type": "markdown",
   "metadata": {
    "deletable": true,
    "editable": true
   },
   "source": [
    "# Check Point\n",
    "This is your first checkpoint.  If you ever decide to come back to this notebook or have to restart the notebook, you can start from here.  The preprocessed data has been saved to disk."
   ]
  },
  {
   "cell_type": "code",
   "execution_count": 6,
   "metadata": {
    "collapsed": true,
    "deletable": true,
    "editable": true
   },
   "outputs": [],
   "source": [
    "\"\"\"\n",
    "DON'T MODIFY ANYTHING IN THIS CELL\n",
    "\"\"\"\n",
    "import pickle\n",
    "import problem_unittests as tests\n",
    "import helper\n",
    "\n",
    "# Load the Preprocessed Validation data\n",
    "valid_features, valid_labels = pickle.load(open('preprocess_validation.p', mode='rb'))"
   ]
  },
  {
   "cell_type": "markdown",
   "metadata": {
    "deletable": true,
    "editable": true
   },
   "source": [
    "## Build the network\n",
    "For the neural network, you'll build each layer into a function.  Most of the code you've seen has been outside of functions. To test your code more thoroughly, we require that you put each layer in a function.  This allows us to give you better feedback and test for simple mistakes using our unittests before you submit your project.\n",
    "\n",
    ">**Note:** If you're finding it hard to dedicate enough time for this course each week, we've provided a small shortcut to this part of the project. In the next couple of problems, you'll have the option to use classes from the [TensorFlow Layers](https://www.tensorflow.org/api_docs/python/tf/layers) or [TensorFlow Layers (contrib)](https://www.tensorflow.org/api_guides/python/contrib.layers) packages to build each layer, except the layers you build in the \"Convolutional and Max Pooling Layer\" section.  TF Layers is similar to Keras's and TFLearn's abstraction to layers, so it's easy to pickup.\n",
    "\n",
    ">However, if you would like to get the most out of this course, try to solve all the problems _without_ using anything from the TF Layers packages. You **can** still use classes from other packages that happen to have the same name as ones you find in TF Layers! For example, instead of using the TF Layers version of the `conv2d` class, [tf.layers.conv2d](https://www.tensorflow.org/api_docs/python/tf/layers/conv2d), you would want to use the TF Neural Network version of `conv2d`, [tf.nn.conv2d](https://www.tensorflow.org/api_docs/python/tf/nn/conv2d). \n",
    "\n",
    "Let's begin!\n",
    "\n",
    "### Input\n",
    "The neural network needs to read the image data, one-hot encoded labels, and dropout keep probability. Implement the following functions\n",
    "* Implement `neural_net_image_input`\n",
    " * Return a [TF Placeholder](https://www.tensorflow.org/api_docs/python/tf/placeholder)\n",
    " * Set the shape using `image_shape` with batch size set to `None`.\n",
    " * Name the TensorFlow placeholder \"x\" using the TensorFlow `name` parameter in the [TF Placeholder](https://www.tensorflow.org/api_docs/python/tf/placeholder).\n",
    "* Implement `neural_net_label_input`\n",
    " * Return a [TF Placeholder](https://www.tensorflow.org/api_docs/python/tf/placeholder)\n",
    " * Set the shape using `n_classes` with batch size set to `None`.\n",
    " * Name the TensorFlow placeholder \"y\" using the TensorFlow `name` parameter in the [TF Placeholder](https://www.tensorflow.org/api_docs/python/tf/placeholder).\n",
    "* Implement `neural_net_keep_prob_input`\n",
    " * Return a [TF Placeholder](https://www.tensorflow.org/api_docs/python/tf/placeholder) for dropout keep probability.\n",
    " * Name the TensorFlow placeholder \"keep_prob\" using the TensorFlow `name` parameter in the [TF Placeholder](https://www.tensorflow.org/api_docs/python/tf/placeholder).\n",
    "\n",
    "These names will be used at the end of the project to load your saved model.\n",
    "\n",
    "Note: `None` for shapes in TensorFlow allow for a dynamic size."
   ]
  },
  {
   "cell_type": "code",
   "execution_count": 7,
   "metadata": {
    "collapsed": false,
    "deletable": true,
    "editable": true
   },
   "outputs": [
    {
     "name": "stdout",
     "output_type": "stream",
     "text": [
      "Image Input Tests Passed.\n",
      "Label Input Tests Passed.\n",
      "Keep Prob Tests Passed.\n"
     ]
    }
   ],
   "source": [
    "import tensorflow as tf\n",
    "\n",
    "def neural_net_image_input(image_shape):\n",
    "    \"\"\"\n",
    "    Return a Tensor for a bach of image input\n",
    "    : image_shape: Shape of the images\n",
    "    : return: Tensor for image input.\n",
    "    \"\"\"\n",
    "    # TODO: Implement Function\n",
    "    return tf.placeholder(tf.float32, shape=(None, image_shape[0], image_shape[1], image_shape[2],), name=\"x\")\n",
    "\n",
    "\n",
    "def neural_net_label_input(n_classes):\n",
    "    \"\"\"\n",
    "    Return a Tensor for a batch of label input\n",
    "    : n_classes: Number of classes\n",
    "    : return: Tensor for label input.\n",
    "    \"\"\"\n",
    "    # TODO: Implement Function\n",
    "    return tf.placeholder(tf.float32, shape=([None, n_classes]), name=\"y\")\n",
    "\n",
    "\n",
    "def neural_net_keep_prob_input():\n",
    "    \"\"\"\n",
    "    Return a Tensor for keep probability\n",
    "    : return: Tensor for keep probability.\n",
    "    \"\"\"\n",
    "    # TODO: Implement Function\n",
    "    return tf.placeholder(tf.float32, name=\"keep_prob\")\n",
    "\n",
    "\n",
    "\"\"\"\n",
    "DON'T MODIFY ANYTHING IN THIS CELL THAT IS BELOW THIS LINE\n",
    "\"\"\"\n",
    "tf.reset_default_graph()\n",
    "tests.test_nn_image_inputs(neural_net_image_input)\n",
    "tests.test_nn_label_inputs(neural_net_label_input)\n",
    "tests.test_nn_keep_prob_inputs(neural_net_keep_prob_input)"
   ]
  },
  {
   "cell_type": "markdown",
   "metadata": {
    "deletable": true,
    "editable": true
   },
   "source": [
    "### Convolution and Max Pooling Layer\n",
    "Convolution layers have a lot of success with images. For this code cell, you should implement the function `conv2d_maxpool` to apply convolution then max pooling:\n",
    "* Create the weight and bias using `conv_ksize`, `conv_num_outputs` and the shape of `x_tensor`.\n",
    "* Apply a convolution to `x_tensor` using weight and `conv_strides`.\n",
    " * We recommend you use same padding, but you're welcome to use any padding.\n",
    "* Add bias\n",
    "* Add a nonlinear activation to the convolution.\n",
    "* Apply Max Pooling using `pool_ksize` and `pool_strides`.\n",
    " * We recommend you use same padding, but you're welcome to use any padding.\n",
    "\n",
    "**Note:** You **can't** use [TensorFlow Layers](https://www.tensorflow.org/api_docs/python/tf/layers) or [TensorFlow Layers (contrib)](https://www.tensorflow.org/api_guides/python/contrib.layers) for **this** layer, but you can still use TensorFlow's [Neural Network](https://www.tensorflow.org/api_docs/python/tf/nn) package. You may still use the shortcut option for all the **other** layers."
   ]
  },
  {
   "cell_type": "code",
   "execution_count": 8,
   "metadata": {
    "collapsed": false,
    "deletable": true,
    "editable": true
   },
   "outputs": [
    {
     "name": "stdout",
     "output_type": "stream",
     "text": [
      "Tests Passed\n"
     ]
    }
   ],
   "source": [
    "def conv2d_maxpool(x_tensor, conv_num_outputs, conv_ksize, conv_strides, pool_ksize, pool_strides):\n",
    "    \"\"\"\n",
    "    Apply convolution then max pooling to x_tensor\n",
    "    :param x_tensor: TensorFlow Tensor\n",
    "    :param conv_num_outputs: Number of outputs for the convolutional layer\n",
    "    :param conv_ksize: kernal size 2-D Tuple for the convolutional layer\n",
    "    :param conv_strides: Stride 2-D Tuple for convolution\n",
    "    :param pool_ksize: kernal size 2-D Tuple for pool\n",
    "    :param pool_strides: Stride 2-D Tuple for pool\n",
    "    : return: A tensor that represents convolution and max pooling of x_tensor\n",
    "    \"\"\"\n",
    "\n",
    "    # TODO: Implement Function\n",
    "    #x_tensor = Tensor(\"Placeholder_25:0\", shape=(?, 32, 32, 5), dtype=float32)\n",
    "    filter_weights = tf.Variable(tf.truncated_normal((conv_ksize[0], conv_ksize[1], x_tensor.get_shape().as_list()[3], conv_num_outputs)))\n",
    "    filter_bias = tf.Variable(tf.zeros(conv_num_outputs))   \n",
    "    \n",
    "    conv_strides = [1, conv_strides[0], conv_strides[1], 1]\n",
    "    \n",
    "    conv_layer = tf.nn.conv2d(x_tensor, filter_weights, conv_strides, \"SAME\")\n",
    "    conv_layer = tf.nn.bias_add(conv_layer, filter_bias)\n",
    "    conv_layer = tf.nn.relu(conv_layer)\n",
    "    \n",
    "    max_pool_strides = [1, pool_ksize[0], pool_ksize[1], 1]\n",
    "    max_pool_padding = [1, pool_strides[0], pool_strides[1], 1]\n",
    "    \n",
    "    conv_layer = tf.nn.max_pool(conv_layer, max_pool_strides, max_pool_padding, \"SAME\")\n",
    "    \n",
    "    return conv_layer\n",
    "    \n",
    "\n",
    "\"\"\"\n",
    "DON'T MODIFY ANYTHING IN THIS CELL THAT IS BELOW THIS LINE\n",
    "\"\"\"\n",
    "tests.test_con_pool(conv2d_maxpool)\n",
    "\n",
    "\n"
   ]
  },
  {
   "cell_type": "markdown",
   "metadata": {
    "deletable": true,
    "editable": true
   },
   "source": [
    "### Flatten Layer\n",
    "Implement the `flatten` function to change the dimension of `x_tensor` from a 4-D tensor to a 2-D tensor.  The output should be the shape (*Batch Size*, *Flattened Image Size*). Shortcut option: you can use classes from the [TensorFlow Layers](https://www.tensorflow.org/api_docs/python/tf/layers) or [TensorFlow Layers (contrib)](https://www.tensorflow.org/api_guides/python/contrib.layers) packages for this layer. For more of a challenge, only use other TensorFlow packages."
   ]
  },
  {
   "cell_type": "code",
   "execution_count": 9,
   "metadata": {
    "collapsed": false,
    "deletable": true,
    "editable": true
   },
   "outputs": [
    {
     "name": "stdout",
     "output_type": "stream",
     "text": [
      "Tests Passed\n"
     ]
    }
   ],
   "source": [
    "def flatten(x_tensor):\n",
    "    \"\"\"\n",
    "    Flatten x_tensor to (Batch Size, Flattened Image Size)\n",
    "    : x_tensor: A tensor of size (Batch Size, ...), where ... are the image dimensions.\n",
    "    : return: A tensor of size (Batch Size, Flattened Image Size).\n",
    "    \"\"\"\n",
    "    # TODO: Implement Function\n",
    "    return tf.contrib.layers.flatten(x_tensor)\n",
    "\n",
    "\n",
    "\"\"\"\n",
    "DON'T MODIFY ANYTHING IN THIS CELL THAT IS BELOW THIS LINE\n",
    "\"\"\"\n",
    "tests.test_flatten(flatten)"
   ]
  },
  {
   "cell_type": "markdown",
   "metadata": {
    "deletable": true,
    "editable": true
   },
   "source": [
    "### Fully-Connected Layer\n",
    "Implement the `fully_conn` function to apply a fully connected layer to `x_tensor` with the shape (*Batch Size*, *num_outputs*). Shortcut option: you can use classes from the [TensorFlow Layers](https://www.tensorflow.org/api_docs/python/tf/layers) or [TensorFlow Layers (contrib)](https://www.tensorflow.org/api_guides/python/contrib.layers) packages for this layer. For more of a challenge, only use other TensorFlow packages."
   ]
  },
  {
   "cell_type": "code",
   "execution_count": 10,
   "metadata": {
    "collapsed": false,
    "deletable": true,
    "editable": true
   },
   "outputs": [
    {
     "name": "stdout",
     "output_type": "stream",
     "text": [
      "Tests Passed\n"
     ]
    }
   ],
   "source": [
    "def fully_conn(x_tensor, num_outputs):\n",
    "    \"\"\"\n",
    "    Apply a fully connected layer to x_tensor using weight and bias\n",
    "    : x_tensor: A 2-D tensor where the first dimension is batch size.\n",
    "    : num_outputs: The number of output that the new tensor should be.\n",
    "    : return: A 2-D tensor where the second dimension is num_outputs.\n",
    "    \"\"\"\n",
    "    # TODO: Implement Function\n",
    "    return tf.contrib.layers.fully_connected(x_tensor, num_outputs)\n",
    "\n",
    "\n",
    "\"\"\"\n",
    "DON'T MODIFY ANYTHING IN THIS CELL THAT IS BELOW THIS LINE\n",
    "\"\"\"\n",
    "tests.test_fully_conn(fully_conn)"
   ]
  },
  {
   "cell_type": "markdown",
   "metadata": {
    "deletable": true,
    "editable": true
   },
   "source": [
    "### Output Layer\n",
    "Implement the `output` function to apply a fully connected layer to `x_tensor` with the shape (*Batch Size*, *num_outputs*). Shortcut option: you can use classes from the [TensorFlow Layers](https://www.tensorflow.org/api_docs/python/tf/layers) or [TensorFlow Layers (contrib)](https://www.tensorflow.org/api_guides/python/contrib.layers) packages for this layer. For more of a challenge, only use other TensorFlow packages.\n",
    "\n",
    "**Note:** Activation, softmax, or cross entropy should **not** be applied to this."
   ]
  },
  {
   "cell_type": "code",
   "execution_count": 11,
   "metadata": {
    "collapsed": false,
    "deletable": true,
    "editable": true
   },
   "outputs": [
    {
     "name": "stdout",
     "output_type": "stream",
     "text": [
      "Tests Passed\n"
     ]
    }
   ],
   "source": [
    "def output(x_tensor, num_outputs):\n",
    "    \"\"\"\n",
    "    Apply a output layer to x_tensor using weight and bias\n",
    "    : x_tensor: A 2-D tensor where the first dimension is batch size.\n",
    "    : num_outputs: The number of output that the new tensor should be.\n",
    "    : return: A 2-D tensor where the second dimension is num_outputs.\n",
    "    \"\"\"\n",
    "    # TODO: Implement Function\n",
    "    return tf.contrib.layers.linear(x_tensor, num_outputs)\n",
    "\n",
    "\n",
    "\"\"\"\n",
    "DON'T MODIFY ANYTHING IN THIS CELL THAT IS BELOW THIS LINE\n",
    "\"\"\"\n",
    "tests.test_output(output)"
   ]
  },
  {
   "cell_type": "markdown",
   "metadata": {
    "deletable": true,
    "editable": true
   },
   "source": [
    "### Create Convolutional Model\n",
    "Implement the function `conv_net` to create a convolutional neural network model. The function takes in a batch of images, `x`, and outputs logits.  Use the layers you created above to create this model:\n",
    "\n",
    "* Apply 1, 2, or 3 Convolution and Max Pool layers\n",
    "* Apply a Flatten Layer\n",
    "* Apply 1, 2, or 3 Fully Connected Layers\n",
    "* Apply an Output Layer\n",
    "* Return the output\n",
    "* Apply [TensorFlow's Dropout](https://www.tensorflow.org/api_docs/python/tf/nn/dropout) to one or more layers in the model using `keep_prob`. "
   ]
  },
  {
   "cell_type": "code",
   "execution_count": null,
   "metadata": {
    "collapsed": false,
    "deletable": true,
    "editable": true
   },
   "outputs": [],
   "source": [
    "def conv_net(x_tensor, keep_prob):\n",
    "    \"\"\"\n",
    "    Create a convolutional neural network model\n",
    "    : x: Placeholder tensor that holds image data.\n",
    "    : keep_prob: Placeholder tensor that hold dropout keep probability.\n",
    "    : return: Tensor that represents logits\n",
    "    \"\"\"\n",
    "        \n",
    "    # TODO: Apply 1, 2, or 3 Convolution and Max Pool layers\n",
    "    #    Play around with different number of outputs, kernel size and stride\n",
    "    # Function Definition from Above:\n",
    "    conv_ksize = (2,2)\n",
    "    conv_strides = (1,1)\n",
    "    pool_ksize = (2,2)\n",
    "    pool_strides = (1,1)\n",
    "    conv_num_outputs = 5\n",
    "    x_tensor = conv2d_maxpool(x_tensor, conv_num_outputs, conv_ksize, conv_strides, pool_ksize, pool_strides)\n",
    "    \n",
    "\n",
    "    # TODO: Apply a Flatten Layer\n",
    "    # Function Definition from Above:\n",
    "    x_tensor = flatten(x_tensor)\n",
    "    \n",
    "\n",
    "    # TODO: Apply 1, 2, or 3 Fully Connected Layers\n",
    "    #    Play around with different number of outputs\n",
    "    # Function Definition from Above:\n",
    "    num_outputs = 20\n",
    "    x_tensor = fully_conn(x_tensor, num_outputs)\n",
    "    num_outputs = 10\n",
    "    x_tensor = fully_conn(x_tensor, num_outputs)\n",
    "    \n",
    "    \n",
    "    # TODO: Apply an Output Layer\n",
    "    #    Set this to the number of classes\n",
    "    # Function Definition from Above:\n",
    "    num_outputs = 10\n",
    "\n",
    "    x_tensor = output(x_tensor, num_outputs)\n",
    "    \n",
    "    \n",
    "    # TODO: return output\n",
    "    return x_tensor\n",
    "\n",
    "\n",
    "\"\"\"\n",
    "DON'T MODIFY ANYTHING IN THIS CELL THAT IS BELOW THIS LINE\n",
    "\"\"\"\n",
    "\n",
    "##############################\n",
    "## Build the Neural Network ##\n",
    "##############################\n",
    "\n",
    "# Remove previous weights, bias, inputs, etc..\n",
    "tf.reset_default_graph()\n",
    "\n",
    "# Inputs\n",
    "x = neural_net_image_input((32, 32, 3))\n",
    "y = neural_net_label_input(10)\n",
    "keep_prob = neural_net_keep_prob_input()\n",
    "\n",
    "# Model\n",
    "logits = conv_net(x, keep_prob)\n",
    "\n",
    "# Name logits Tensor, so that is can be loaded from disk after training\n",
    "logits = tf.identity(logits, name='logits')\n",
    "\n",
    "# Loss and Optimizer\n",
    "cost = tf.reduce_mean(tf.nn.softmax_cross_entropy_with_logits(logits=logits, labels=y))\n",
    "optimizer = tf.train.AdamOptimizer().minimize(cost)\n",
    "\n",
    "# Accuracy\n",
    "correct_pred = tf.equal(tf.argmax(logits, 1), tf.argmax(y, 1))\n",
    "accuracy = tf.reduce_mean(tf.cast(correct_pred, tf.float32), name='accuracy')\n",
    "\n",
    "tests.test_conv_net(conv_net)"
   ]
  },
  {
   "cell_type": "markdown",
   "metadata": {
    "deletable": true,
    "editable": true
   },
   "source": [
    "## Train the Neural Network\n",
    "### Single Optimization\n",
    "Implement the function `train_neural_network` to do a single optimization.  The optimization should use `optimizer` to optimize in `session` with a `feed_dict` of the following:\n",
    "* `x` for image input\n",
    "* `y` for labels\n",
    "* `keep_prob` for keep probability for dropout\n",
    "\n",
    "This function will be called for each batch, so `tf.global_variables_initializer()` has already been called.\n",
    "\n",
    "Note: Nothing needs to be returned. This function is only optimizing the neural network."
   ]
  },
  {
   "cell_type": "code",
   "execution_count": 152,
   "metadata": {
    "collapsed": false,
    "deletable": true,
    "editable": true
   },
   "outputs": [
    {
     "name": "stdout",
     "output_type": "stream",
     "text": [
      "Tests Passed\n"
     ]
    }
   ],
   "source": [
    "def train_neural_network(session, optimizer, keep_probability, feature_batch, label_batch):\n",
    "    \"\"\"\n",
    "    Optimize the session on a batch of images and labels\n",
    "    : session: Current TensorFlow session\n",
    "    : optimizer: TensorFlow optimizer function\n",
    "    : keep_probability: keep probability\n",
    "    : feature_batch: Batch of Numpy image data\n",
    "    : label_batch: Batch of Numpy label data\n",
    "    \"\"\"\n",
    "    # TODO: Implement Function\n",
    "    session.run(optimizer, feed_dict = {\n",
    "        x: feature_batch,\n",
    "        y: label_batch,\n",
    "        keep_prob: keep_probability\n",
    "    })\n",
    "\n",
    "\n",
    "\"\"\"\n",
    "DON'T MODIFY ANYTHING IN THIS CELL THAT IS BELOW THIS LINE\n",
    "\"\"\"\n",
    "tests.test_train_nn(train_neural_network)"
   ]
  },
  {
   "cell_type": "markdown",
   "metadata": {
    "deletable": true,
    "editable": true
   },
   "source": [
    "### Show Stats\n",
    "Implement the function `print_stats` to print loss and validation accuracy.  Use the global variables `valid_features` and `valid_labels` to calculate validation accuracy.  Use a keep probability of `1.0` to calculate the loss and validation accuracy."
   ]
  },
  {
   "cell_type": "code",
   "execution_count": 156,
   "metadata": {
    "collapsed": false,
    "deletable": true,
    "editable": true
   },
   "outputs": [],
   "source": [
    "def print_stats(session, feature_batch, label_batch, cost, accuracy):\n",
    "    \"\"\"\n",
    "    Print information about loss and validation accuracy\n",
    "    : session: Current TensorFlow session\n",
    "    : feature_batch: Batch of Numpy image data\n",
    "    : label_batch: Batch of Numpy label data\n",
    "    : cost: TensorFlow cost function\n",
    "    : accuracy: TensorFlow accuracy function\n",
    "    \"\"\"\n",
    "    # TODO: Implement Function\n",
    "    cost = session.run(cost, feed_dict={y: label_batch, x: feature_batch})\n",
    "    accuracy = session.run(accuracy, feed_dict={y: label_batch, x: feature_batch})\n",
    "    \n",
    "    accuracy = accuracy * 100\n",
    "    \n",
    "    print(\"Cost: {}. Accuracy: {}%\".format(cost, accuracy))\n",
    "\n"
   ]
  },
  {
   "cell_type": "markdown",
   "metadata": {
    "deletable": true,
    "editable": true
   },
   "source": [
    "### Hyperparameters\n",
    "Tune the following parameters:\n",
    "* Set `epochs` to the number of iterations until the network stops learning or start overfitting\n",
    "* Set `batch_size` to the highest number that your machine has memory for.  Most people set them to common sizes of memory:\n",
    " * 64\n",
    " * 128\n",
    " * 256\n",
    " * ...\n",
    "* Set `keep_probability` to the probability of keeping a node using dropout"
   ]
  },
  {
   "cell_type": "code",
   "execution_count": 168,
   "metadata": {
    "collapsed": true,
    "deletable": true,
    "editable": true
   },
   "outputs": [],
   "source": [
    "# TODO: Tune Parameters\n",
    "epochs = 40\n",
    "batch_size = 128\n",
    "keep_probability = .8"
   ]
  },
  {
   "cell_type": "markdown",
   "metadata": {
    "deletable": true,
    "editable": true
   },
   "source": [
    "### Train on a Single CIFAR-10 Batch\n",
    "Instead of training the neural network on all the CIFAR-10 batches of data, let's use a single batch. This should save time while you iterate on the model to get a better accuracy.  Once the final validation accuracy is 50% or greater, run the model on all the data in the next section."
   ]
  },
  {
   "cell_type": "code",
   "execution_count": 163,
   "metadata": {
    "collapsed": false,
    "deletable": true,
    "editable": true
   },
   "outputs": [
    {
     "name": "stdout",
     "output_type": "stream",
     "text": [
      "Checking the Training on a Single Batch...\n",
      "Epoch  1, CIFAR-10 Batch 1:  Cost: 2.2133803367614746. Accuracy: 17.500001192092896%\n",
      "Epoch  2, CIFAR-10 Batch 1:  Cost: 2.1110410690307617. Accuracy: 30.000001192092896%\n",
      "Epoch  3, CIFAR-10 Batch 1:  Cost: 1.9734641313552856. Accuracy: 42.49999821186066%\n",
      "Epoch  4, CIFAR-10 Batch 1:  Cost: 1.8881938457489014. Accuracy: 37.5%\n",
      "Epoch  5, CIFAR-10 Batch 1:  Cost: 1.8161298036575317. Accuracy: 35.00000238418579%\n",
      "Epoch  6, CIFAR-10 Batch 1:  Cost: 1.7659729719161987. Accuracy: 32.50000178813934%\n",
      "Epoch  7, CIFAR-10 Batch 1:  Cost: 1.6670266389846802. Accuracy: 37.5%\n",
      "Epoch  8, CIFAR-10 Batch 1:  Cost: 1.5845270156860352. Accuracy: 37.5%\n",
      "Epoch  9, CIFAR-10 Batch 1:  Cost: 1.5093319416046143. Accuracy: 40.00000059604645%\n",
      "Epoch 10, CIFAR-10 Batch 1:  Cost: 1.4426809549331665. Accuracy: 40.00000059604645%\n",
      "Epoch 11, CIFAR-10 Batch 1:  Cost: 1.3766968250274658. Accuracy: 42.500001192092896%\n",
      "Epoch 12, CIFAR-10 Batch 1:  Cost: 1.3253810405731201. Accuracy: 44.999998807907104%\n",
      "Epoch 13, CIFAR-10 Batch 1:  Cost: 1.281031608581543. Accuracy: 52.49999761581421%\n",
      "Epoch 14, CIFAR-10 Batch 1:  Cost: 1.2520406246185303. Accuracy: 55.000001192092896%\n",
      "Epoch 15, CIFAR-10 Batch 1:  Cost: 1.2313109636306763. Accuracy: 52.49999761581421%\n",
      "Epoch 16, CIFAR-10 Batch 1:  Cost: 1.2072358131408691. Accuracy: 55.000001192092896%\n",
      "Epoch 17, CIFAR-10 Batch 1:  Cost: 1.1873893737792969. Accuracy: 52.49999761581421%\n",
      "Epoch 18, CIFAR-10 Batch 1:  Cost: 1.1628819704055786. Accuracy: 57.50000476837158%\n",
      "Epoch 19, CIFAR-10 Batch 1:  Cost: 1.1143373250961304. Accuracy: 60.00000238418579%\n",
      "Epoch 20, CIFAR-10 Batch 1:  Cost: 1.0922292470932007. Accuracy: 62.5%\n",
      "Epoch 21, CIFAR-10 Batch 1:  Cost: 1.071913719177246. Accuracy: 62.5%\n",
      "Epoch 22, CIFAR-10 Batch 1:  Cost: 1.0526114702224731. Accuracy: 64.99999761581421%\n",
      "Epoch 23, CIFAR-10 Batch 1:  Cost: 1.034605622291565. Accuracy: 64.99999761581421%\n",
      "Epoch 24, CIFAR-10 Batch 1:  Cost: 1.0137121677398682. Accuracy: 64.99999761581421%\n",
      "Epoch 25, CIFAR-10 Batch 1:  Cost: 0.9971343278884888. Accuracy: 67.5000011920929%\n",
      "Epoch 26, CIFAR-10 Batch 1:  Cost: 0.97990882396698. Accuracy: 67.5000011920929%\n",
      "Epoch 27, CIFAR-10 Batch 1:  Cost: 0.9645276069641113. Accuracy: 67.5000011920929%\n",
      "Epoch 28, CIFAR-10 Batch 1:  Cost: 0.9495577216148376. Accuracy: 67.5000011920929%\n",
      "Epoch 29, CIFAR-10 Batch 1:  Cost: 0.9361225962638855. Accuracy: 67.5000011920929%\n",
      "Epoch 30, CIFAR-10 Batch 1:  Cost: 0.9225549697875977. Accuracy: 70.00000476837158%\n",
      "Epoch 31, CIFAR-10 Batch 1:  Cost: 0.9088082313537598. Accuracy: 70.00000476837158%\n",
      "Epoch 32, CIFAR-10 Batch 1:  Cost: 0.8961875438690186. Accuracy: 70.00000476837158%\n",
      "Epoch 33, CIFAR-10 Batch 1:  Cost: 0.883884847164154. Accuracy: 72.50000238418579%\n",
      "Epoch 34, CIFAR-10 Batch 1:  Cost: 0.8729732036590576. Accuracy: 70.00000476837158%\n",
      "Epoch 35, CIFAR-10 Batch 1:  Cost: 0.8595941662788391. Accuracy: 72.50000238418579%\n",
      "Epoch 36, CIFAR-10 Batch 1:  Cost: 0.8472891449928284. Accuracy: 72.50000238418579%\n",
      "Epoch 37, CIFAR-10 Batch 1:  Cost: 0.835662305355072. Accuracy: 72.50000238418579%\n",
      "Epoch 38, CIFAR-10 Batch 1:  Cost: 0.8218839764595032. Accuracy: 72.50000238418579%\n",
      "Epoch 39, CIFAR-10 Batch 1:  Cost: 0.8097986578941345. Accuracy: 75.0%\n",
      "Epoch 40, CIFAR-10 Batch 1:  Cost: 0.7972845435142517. Accuracy: 75.0%\n"
     ]
    }
   ],
   "source": [
    "\"\"\"\n",
    "DON'T MODIFY ANYTHING IN THIS CELL\n",
    "\"\"\"\n",
    "print('Checking the Training on a Single Batch...')\n",
    "with tf.Session() as sess:\n",
    "    # Initializing the variables\n",
    "    sess.run(tf.global_variables_initializer())\n",
    "    \n",
    "    # Training cycle\n",
    "    for epoch in range(epochs):\n",
    "        batch_i = 1\n",
    "        for batch_features, batch_labels in helper.load_preprocess_training_batch(batch_i, batch_size):\n",
    "            train_neural_network(sess, optimizer, keep_probability, batch_features, batch_labels)\n",
    "        print('Epoch {:>2}, CIFAR-10 Batch {}:  '.format(epoch + 1, batch_i), end='')\n",
    "        print_stats(sess, batch_features, batch_labels, cost, accuracy)"
   ]
  },
  {
   "cell_type": "markdown",
   "metadata": {
    "deletable": true,
    "editable": true
   },
   "source": [
    "### Fully Train the Model\n",
    "Now that you got a good accuracy with a single CIFAR-10 batch, try it with all five batches."
   ]
  },
  {
   "cell_type": "code",
   "execution_count": 169,
   "metadata": {
    "collapsed": false,
    "deletable": true,
    "editable": true
   },
   "outputs": [
    {
     "name": "stdout",
     "output_type": "stream",
     "text": [
      "Training...\n",
      "Epoch  1, CIFAR-10 Batch 1:  Cost: 2.2677745819091797. Accuracy: 7.500000298023224%\n",
      "Epoch  1, CIFAR-10 Batch 2:  Cost: 2.3096611499786377. Accuracy: 15.000000596046448%\n",
      "Epoch  1, CIFAR-10 Batch 3:  Cost: 2.186142921447754. Accuracy: 20.000000298023224%\n",
      "Epoch  1, CIFAR-10 Batch 4:  Cost: 2.192889451980591. Accuracy: 25.0%\n",
      "Epoch  1, CIFAR-10 Batch 5:  Cost: 2.1375250816345215. Accuracy: 20.000001788139343%\n",
      "Epoch  2, CIFAR-10 Batch 1:  Cost: 2.1061630249023438. Accuracy: 27.500000596046448%\n",
      "Epoch  2, CIFAR-10 Batch 2:  Cost: 1.9902584552764893. Accuracy: 17.500001192092896%\n",
      "Epoch  2, CIFAR-10 Batch 3:  Cost: 1.8123730421066284. Accuracy: 30.000001192092896%\n",
      "Epoch  2, CIFAR-10 Batch 4:  Cost: 1.9738781452178955. Accuracy: 25.0%\n",
      "Epoch  2, CIFAR-10 Batch 5:  Cost: 1.9257175922393799. Accuracy: 30.000001192092896%\n",
      "Epoch  3, CIFAR-10 Batch 1:  Cost: 1.9939626455307007. Accuracy: 20.000000298023224%\n",
      "Epoch  3, CIFAR-10 Batch 2:  Cost: 1.8711026906967163. Accuracy: 32.50000178813934%\n",
      "Epoch  3, CIFAR-10 Batch 3:  Cost: 1.6667295694351196. Accuracy: 32.50000178813934%\n",
      "Epoch  3, CIFAR-10 Batch 4:  Cost: 1.8141998052597046. Accuracy: 27.500000596046448%\n",
      "Epoch  3, CIFAR-10 Batch 5:  Cost: 1.8005448579788208. Accuracy: 27.500000596046448%\n",
      "Epoch  4, CIFAR-10 Batch 1:  Cost: 1.8984885215759277. Accuracy: 32.499998807907104%\n",
      "Epoch  4, CIFAR-10 Batch 2:  Cost: 1.8315528631210327. Accuracy: 22.50000089406967%\n",
      "Epoch  4, CIFAR-10 Batch 3:  Cost: 1.5625853538513184. Accuracy: 20.000000298023224%\n",
      "Epoch  4, CIFAR-10 Batch 4:  Cost: 1.7314642667770386. Accuracy: 25.0%\n",
      "Epoch  4, CIFAR-10 Batch 5:  Cost: 1.7163944244384766. Accuracy: 30.000001192092896%\n",
      "Epoch  5, CIFAR-10 Batch 1:  Cost: 1.9102351665496826. Accuracy: 32.499998807907104%\n",
      "Epoch  5, CIFAR-10 Batch 2:  Cost: 1.7472251653671265. Accuracy: 27.500000596046448%\n",
      "Epoch  5, CIFAR-10 Batch 3:  Cost: 1.5184121131896973. Accuracy: 44.999998807907104%\n",
      "Epoch  5, CIFAR-10 Batch 4:  Cost: 1.6837831735610962. Accuracy: 22.499999403953552%\n",
      "Epoch  5, CIFAR-10 Batch 5:  Cost: 1.6385071277618408. Accuracy: 40.00000357627869%\n",
      "Epoch  6, CIFAR-10 Batch 1:  Cost: 1.8739145994186401. Accuracy: 37.50000298023224%\n",
      "Epoch  6, CIFAR-10 Batch 2:  Cost: 1.7081331014633179. Accuracy: 35.00000238418579%\n",
      "Epoch  6, CIFAR-10 Batch 3:  Cost: 1.5167866945266724. Accuracy: 40.00000059604645%\n",
      "Epoch  6, CIFAR-10 Batch 4:  Cost: 1.6552536487579346. Accuracy: 22.50000089406967%\n",
      "Epoch  6, CIFAR-10 Batch 5:  Cost: 1.598689317703247. Accuracy: 40.00000357627869%\n",
      "Epoch  7, CIFAR-10 Batch 1:  Cost: 1.7323845624923706. Accuracy: 40.00000357627869%\n",
      "Epoch  7, CIFAR-10 Batch 2:  Cost: 1.5313996076583862. Accuracy: 47.50000238418579%\n",
      "Epoch  7, CIFAR-10 Batch 3:  Cost: 1.3962198495864868. Accuracy: 40.00000059604645%\n",
      "Epoch  7, CIFAR-10 Batch 4:  Cost: 1.5671937465667725. Accuracy: 32.50000178813934%\n",
      "Epoch  7, CIFAR-10 Batch 5:  Cost: 1.5197412967681885. Accuracy: 50.00000596046448%\n",
      "Epoch  8, CIFAR-10 Batch 1:  Cost: 1.6741578578948975. Accuracy: 40.00000059604645%\n",
      "Epoch  8, CIFAR-10 Batch 2:  Cost: 1.4346842765808105. Accuracy: 57.499998807907104%\n",
      "Epoch  8, CIFAR-10 Batch 3:  Cost: 1.3043031692504883. Accuracy: 42.500001192092896%\n",
      "Epoch  8, CIFAR-10 Batch 4:  Cost: 1.537575602531433. Accuracy: 35.00000238418579%\n",
      "Epoch  8, CIFAR-10 Batch 5:  Cost: 1.472748041152954. Accuracy: 52.50000357627869%\n",
      "Epoch  9, CIFAR-10 Batch 1:  Cost: 1.666646122932434. Accuracy: 42.500001192092896%\n",
      "Epoch  9, CIFAR-10 Batch 2:  Cost: 1.4099493026733398. Accuracy: 57.499998807907104%\n",
      "Epoch  9, CIFAR-10 Batch 3:  Cost: 1.2548856735229492. Accuracy: 52.50000357627869%\n",
      "Epoch  9, CIFAR-10 Batch 4:  Cost: 1.5056841373443604. Accuracy: 34.99999940395355%\n",
      "Epoch  9, CIFAR-10 Batch 5:  Cost: 1.4216194152832031. Accuracy: 52.50000357627869%\n",
      "Epoch 10, CIFAR-10 Batch 1:  Cost: 1.6855453252792358. Accuracy: 44.999998807907104%\n",
      "Epoch 10, CIFAR-10 Batch 2:  Cost: 1.3384112119674683. Accuracy: 62.5%\n",
      "Epoch 10, CIFAR-10 Batch 3:  Cost: 1.1789385080337524. Accuracy: 57.50000476837158%\n",
      "Epoch 10, CIFAR-10 Batch 4:  Cost: 1.4575810432434082. Accuracy: 42.500001192092896%\n",
      "Epoch 10, CIFAR-10 Batch 5:  Cost: 1.4009575843811035. Accuracy: 50.00000596046448%\n",
      "Epoch 11, CIFAR-10 Batch 1:  Cost: 1.6608388423919678. Accuracy: 42.500001192092896%\n",
      "Epoch 11, CIFAR-10 Batch 2:  Cost: 1.3153940439224243. Accuracy: 62.5%\n",
      "Epoch 11, CIFAR-10 Batch 3:  Cost: 1.1453924179077148. Accuracy: 67.49999523162842%\n",
      "Epoch 11, CIFAR-10 Batch 4:  Cost: 1.4183518886566162. Accuracy: 45.00000178813934%\n",
      "Epoch 11, CIFAR-10 Batch 5:  Cost: 1.3717540502548218. Accuracy: 55.000001192092896%\n",
      "Epoch 12, CIFAR-10 Batch 1:  Cost: 1.620192050933838. Accuracy: 45.00000178813934%\n",
      "Epoch 12, CIFAR-10 Batch 2:  Cost: 1.2737631797790527. Accuracy: 62.5%\n",
      "Epoch 12, CIFAR-10 Batch 3:  Cost: 1.1186472177505493. Accuracy: 72.50000238418579%\n",
      "Epoch 12, CIFAR-10 Batch 4:  Cost: 1.3773119449615479. Accuracy: 47.50000238418579%\n",
      "Epoch 12, CIFAR-10 Batch 5:  Cost: 1.3550293445587158. Accuracy: 55.000001192092896%\n",
      "Epoch 13, CIFAR-10 Batch 1:  Cost: 1.5806163549423218. Accuracy: 42.500001192092896%\n",
      "Epoch 13, CIFAR-10 Batch 2:  Cost: 1.2415629625320435. Accuracy: 64.99999761581421%\n",
      "Epoch 13, CIFAR-10 Batch 3:  Cost: 1.0917824506759644. Accuracy: 72.50000238418579%\n",
      "Epoch 13, CIFAR-10 Batch 4:  Cost: 1.3485214710235596. Accuracy: 52.50000357627869%\n",
      "Epoch 13, CIFAR-10 Batch 5:  Cost: 1.333915114402771. Accuracy: 55.000001192092896%\n",
      "Epoch 14, CIFAR-10 Batch 1:  Cost: 1.5471863746643066. Accuracy: 47.50000238418579%\n",
      "Epoch 14, CIFAR-10 Batch 2:  Cost: 1.2112215757369995. Accuracy: 64.99999761581421%\n",
      "Epoch 14, CIFAR-10 Batch 3:  Cost: 1.0711714029312134. Accuracy: 72.50000238418579%\n",
      "Epoch 14, CIFAR-10 Batch 4:  Cost: 1.3304998874664307. Accuracy: 52.50000357627869%\n",
      "Epoch 14, CIFAR-10 Batch 5:  Cost: 1.323224425315857. Accuracy: 55.000001192092896%\n",
      "Epoch 15, CIFAR-10 Batch 1:  Cost: 1.5241906642913818. Accuracy: 47.50000238418579%\n",
      "Epoch 15, CIFAR-10 Batch 2:  Cost: 1.1893926858901978. Accuracy: 65.00000357627869%\n",
      "Epoch 15, CIFAR-10 Batch 3:  Cost: 1.0440306663513184. Accuracy: 72.50000238418579%\n",
      "Epoch 15, CIFAR-10 Batch 4:  Cost: 1.3035862445831299. Accuracy: 60.00000238418579%\n",
      "Epoch 15, CIFAR-10 Batch 5:  Cost: 1.3168693780899048. Accuracy: 55.000001192092896%\n",
      "Epoch 16, CIFAR-10 Batch 1:  Cost: 1.5005857944488525. Accuracy: 47.50000238418579%\n",
      "Epoch 16, CIFAR-10 Batch 2:  Cost: 1.165082335472107. Accuracy: 65.00000357627869%\n",
      "Epoch 16, CIFAR-10 Batch 3:  Cost: 1.0332837104797363. Accuracy: 75.0%\n",
      "Epoch 16, CIFAR-10 Batch 4:  Cost: 1.2786023616790771. Accuracy: 60.00000238418579%\n",
      "Epoch 16, CIFAR-10 Batch 5:  Cost: 1.2969380617141724. Accuracy: 57.50000476837158%\n",
      "Epoch 17, CIFAR-10 Batch 1:  Cost: 1.4710723161697388. Accuracy: 52.50000357627869%\n",
      "Epoch 17, CIFAR-10 Batch 2:  Cost: 1.142871379852295. Accuracy: 62.5%\n",
      "Epoch 17, CIFAR-10 Batch 3:  Cost: 1.0214085578918457. Accuracy: 75.0%\n",
      "Epoch 17, CIFAR-10 Batch 4:  Cost: 1.2580702304840088. Accuracy: 60.00000238418579%\n",
      "Epoch 17, CIFAR-10 Batch 5:  Cost: 1.2876129150390625. Accuracy: 60.00000238418579%\n",
      "Epoch 18, CIFAR-10 Batch 1:  Cost: 1.46086847782135. Accuracy: 52.50000357627869%\n",
      "Epoch 18, CIFAR-10 Batch 2:  Cost: 1.1262307167053223. Accuracy: 65.00000357627869%\n",
      "Epoch 18, CIFAR-10 Batch 3:  Cost: 1.014460563659668. Accuracy: 77.49999761581421%\n",
      "Epoch 18, CIFAR-10 Batch 4:  Cost: 1.251914143562317. Accuracy: 62.5%\n",
      "Epoch 18, CIFAR-10 Batch 5:  Cost: 1.2678829431533813. Accuracy: 64.99999761581421%\n",
      "Epoch 19, CIFAR-10 Batch 1:  Cost: 1.4451277256011963. Accuracy: 52.50000357627869%\n",
      "Epoch 19, CIFAR-10 Batch 2:  Cost: 1.1128065586090088. Accuracy: 65.00000357627869%\n",
      "Epoch 19, CIFAR-10 Batch 3:  Cost: 0.9964519739151001. Accuracy: 77.49999761581421%\n",
      "Epoch 19, CIFAR-10 Batch 4:  Cost: 1.2433090209960938. Accuracy: 62.5%\n",
      "Epoch 19, CIFAR-10 Batch 5:  Cost: 1.2577698230743408. Accuracy: 64.99999761581421%\n",
      "Epoch 20, CIFAR-10 Batch 1:  Cost: 1.4291507005691528. Accuracy: 55.000001192092896%\n",
      "Epoch 20, CIFAR-10 Batch 2:  Cost: 1.0967612266540527. Accuracy: 65.00000357627869%\n",
      "Epoch 20, CIFAR-10 Batch 3:  Cost: 0.9810538291931152. Accuracy: 77.49999761581421%\n",
      "Epoch 20, CIFAR-10 Batch 4:  Cost: 1.2316514253616333. Accuracy: 65.00000357627869%\n",
      "Epoch 20, CIFAR-10 Batch 5:  Cost: 1.2341190576553345. Accuracy: 64.99999761581421%\n",
      "Epoch 21, CIFAR-10 Batch 1:  Cost: 1.4129655361175537. Accuracy: 55.000001192092896%\n",
      "Epoch 21, CIFAR-10 Batch 2:  Cost: 1.0811089277267456. Accuracy: 65.00000357627869%\n",
      "Epoch 21, CIFAR-10 Batch 3:  Cost: 0.9756660461425781. Accuracy: 77.49999761581421%\n",
      "Epoch 21, CIFAR-10 Batch 4:  Cost: 1.2199524641036987. Accuracy: 65.00000357627869%\n",
      "Epoch 21, CIFAR-10 Batch 5:  Cost: 1.2051304578781128. Accuracy: 67.49999523162842%\n",
      "Epoch 22, CIFAR-10 Batch 1:  Cost: 1.4075909852981567. Accuracy: 55.000001192092896%\n",
      "Epoch 22, CIFAR-10 Batch 2:  Cost: 1.0603359937667847. Accuracy: 65.00000357627869%\n",
      "Epoch 22, CIFAR-10 Batch 3:  Cost: 0.9625524878501892. Accuracy: 77.49999761581421%\n",
      "Epoch 22, CIFAR-10 Batch 4:  Cost: 1.2072155475616455. Accuracy: 65.00000357627869%\n",
      "Epoch 22, CIFAR-10 Batch 5:  Cost: 1.1830072402954102. Accuracy: 67.49999523162842%\n",
      "Epoch 23, CIFAR-10 Batch 1:  Cost: 1.392101526260376. Accuracy: 55.000001192092896%\n",
      "Epoch 23, CIFAR-10 Batch 2:  Cost: 1.044681429862976. Accuracy: 65.00000357627869%\n",
      "Epoch 23, CIFAR-10 Batch 3:  Cost: 0.9473083019256592. Accuracy: 77.49999761581421%\n",
      "Epoch 23, CIFAR-10 Batch 4:  Cost: 1.193429708480835. Accuracy: 65.00000357627869%\n",
      "Epoch 23, CIFAR-10 Batch 5:  Cost: 1.1709315776824951. Accuracy: 67.49999523162842%\n",
      "Epoch 24, CIFAR-10 Batch 1:  Cost: 1.3761364221572876. Accuracy: 55.000001192092896%\n",
      "Epoch 24, CIFAR-10 Batch 2:  Cost: 1.0355350971221924. Accuracy: 65.00000357627869%\n",
      "Epoch 24, CIFAR-10 Batch 3:  Cost: 0.9318768978118896. Accuracy: 75.0%\n",
      "Epoch 24, CIFAR-10 Batch 4:  Cost: 1.1846323013305664. Accuracy: 65.00000357627869%\n",
      "Epoch 24, CIFAR-10 Batch 5:  Cost: 1.1522650718688965. Accuracy: 64.99999761581421%\n",
      "Epoch 25, CIFAR-10 Batch 1:  Cost: 1.3643999099731445. Accuracy: 52.50000357627869%\n",
      "Epoch 25, CIFAR-10 Batch 2:  Cost: 1.0230096578598022. Accuracy: 65.00000357627869%\n",
      "Epoch 25, CIFAR-10 Batch 3:  Cost: 0.9136842489242554. Accuracy: 75.0%\n",
      "Epoch 25, CIFAR-10 Batch 4:  Cost: 1.174643635749817. Accuracy: 65.00000357627869%\n",
      "Epoch 25, CIFAR-10 Batch 5:  Cost: 1.1348408460617065. Accuracy: 64.99999761581421%\n",
      "Epoch 26, CIFAR-10 Batch 1:  Cost: 1.3473597764968872. Accuracy: 52.50000357627869%\n",
      "Epoch 26, CIFAR-10 Batch 2:  Cost: 1.0127112865447998. Accuracy: 65.00000357627869%\n",
      "Epoch 26, CIFAR-10 Batch 3:  Cost: 0.9042397141456604. Accuracy: 75.0%\n",
      "Epoch 26, CIFAR-10 Batch 4:  Cost: 1.170370101928711. Accuracy: 65.00000357627869%\n",
      "Epoch 26, CIFAR-10 Batch 5:  Cost: 1.1187657117843628. Accuracy: 64.99999761581421%\n",
      "Epoch 27, CIFAR-10 Batch 1:  Cost: 1.3332884311676025. Accuracy: 60.00000238418579%\n",
      "Epoch 27, CIFAR-10 Batch 2:  Cost: 0.9987103343009949. Accuracy: 70.00000476837158%\n",
      "Epoch 27, CIFAR-10 Batch 3:  Cost: 0.8948976993560791. Accuracy: 75.0%\n",
      "Epoch 27, CIFAR-10 Batch 4:  Cost: 1.1578302383422852. Accuracy: 65.00000357627869%\n",
      "Epoch 27, CIFAR-10 Batch 5:  Cost: 1.1097371578216553. Accuracy: 64.99999761581421%\n",
      "Epoch 28, CIFAR-10 Batch 1:  Cost: 1.3174785375595093. Accuracy: 57.499998807907104%\n",
      "Epoch 28, CIFAR-10 Batch 2:  Cost: 0.9859088659286499. Accuracy: 67.5000011920929%\n",
      "Epoch 28, CIFAR-10 Batch 3:  Cost: 0.8856415748596191. Accuracy: 77.49999761581421%\n",
      "Epoch 28, CIFAR-10 Batch 4:  Cost: 1.1517757177352905. Accuracy: 65.00000357627869%\n",
      "Epoch 28, CIFAR-10 Batch 5:  Cost: 1.09015691280365. Accuracy: 64.99999761581421%\n",
      "Epoch 29, CIFAR-10 Batch 1:  Cost: 1.3048118352890015. Accuracy: 55.000001192092896%\n",
      "Epoch 29, CIFAR-10 Batch 2:  Cost: 0.977205216884613. Accuracy: 65.00000357627869%\n",
      "Epoch 29, CIFAR-10 Batch 3:  Cost: 0.8849223852157593. Accuracy: 77.49999761581421%\n",
      "Epoch 29, CIFAR-10 Batch 4:  Cost: 1.146087408065796. Accuracy: 65.00000357627869%\n",
      "Epoch 29, CIFAR-10 Batch 5:  Cost: 1.0806328058242798. Accuracy: 64.99999761581421%\n",
      "Epoch 30, CIFAR-10 Batch 1:  Cost: 1.2864118814468384. Accuracy: 57.499998807907104%\n",
      "Epoch 30, CIFAR-10 Batch 2:  Cost: 0.969512403011322. Accuracy: 65.00000357627869%\n",
      "Epoch 30, CIFAR-10 Batch 3:  Cost: 0.8801541328430176. Accuracy: 75.0%\n",
      "Epoch 30, CIFAR-10 Batch 4:  Cost: 1.1369760036468506. Accuracy: 65.00000357627869%\n",
      "Epoch 30, CIFAR-10 Batch 5:  Cost: 1.067533016204834. Accuracy: 64.99999761581421%\n",
      "Epoch 31, CIFAR-10 Batch 1:  Cost: 1.2714295387268066. Accuracy: 57.499998807907104%\n",
      "Epoch 31, CIFAR-10 Batch 2:  Cost: 0.9579037427902222. Accuracy: 65.00000357627869%\n",
      "Epoch 31, CIFAR-10 Batch 3:  Cost: 0.8764621615409851. Accuracy: 75.0%\n",
      "Epoch 31, CIFAR-10 Batch 4:  Cost: 1.1308830976486206. Accuracy: 65.00000357627869%\n",
      "Epoch 31, CIFAR-10 Batch 5:  Cost: 1.0508627891540527. Accuracy: 64.99999761581421%\n",
      "Epoch 32, CIFAR-10 Batch 1:  Cost: 1.2606462240219116. Accuracy: 60.00000238418579%\n",
      "Epoch 32, CIFAR-10 Batch 2:  Cost: 0.9496265053749084. Accuracy: 65.00000357627869%\n",
      "Epoch 32, CIFAR-10 Batch 3:  Cost: 0.8730435967445374. Accuracy: 75.0%\n",
      "Epoch 32, CIFAR-10 Batch 4:  Cost: 1.123434066772461. Accuracy: 65.00000357627869%\n",
      "Epoch 32, CIFAR-10 Batch 5:  Cost: 1.0438213348388672. Accuracy: 70.00000476837158%\n",
      "Epoch 33, CIFAR-10 Batch 1:  Cost: 1.2444921731948853. Accuracy: 57.499998807907104%\n",
      "Epoch 33, CIFAR-10 Batch 2:  Cost: 0.9431126713752747. Accuracy: 65.00000357627869%\n",
      "Epoch 33, CIFAR-10 Batch 3:  Cost: 0.8657093644142151. Accuracy: 75.0%\n",
      "Epoch 33, CIFAR-10 Batch 4:  Cost: 1.1151043176651. Accuracy: 65.00000357627869%\n",
      "Epoch 33, CIFAR-10 Batch 5:  Cost: 1.034790277481079. Accuracy: 70.00000476837158%\n",
      "Epoch 34, CIFAR-10 Batch 1:  Cost: 1.2321869134902954. Accuracy: 62.5%\n",
      "Epoch 34, CIFAR-10 Batch 2:  Cost: 0.9300775527954102. Accuracy: 65.00000357627869%\n",
      "Epoch 34, CIFAR-10 Batch 3:  Cost: 0.8627439737319946. Accuracy: 75.0%\n",
      "Epoch 34, CIFAR-10 Batch 4:  Cost: 1.1142971515655518. Accuracy: 65.00000357627869%\n",
      "Epoch 34, CIFAR-10 Batch 5:  Cost: 1.0242207050323486. Accuracy: 72.50000238418579%\n",
      "Epoch 35, CIFAR-10 Batch 1:  Cost: 1.2246977090835571. Accuracy: 62.5%\n",
      "Epoch 35, CIFAR-10 Batch 2:  Cost: 0.9163393378257751. Accuracy: 65.00000357627869%\n",
      "Epoch 35, CIFAR-10 Batch 3:  Cost: 0.8556391596794128. Accuracy: 75.0%\n",
      "Epoch 35, CIFAR-10 Batch 4:  Cost: 1.111203670501709. Accuracy: 65.00000357627869%\n",
      "Epoch 35, CIFAR-10 Batch 5:  Cost: 1.0106836557388306. Accuracy: 72.50000238418579%\n",
      "Epoch 36, CIFAR-10 Batch 1:  Cost: 1.2147796154022217. Accuracy: 62.5%\n",
      "Epoch 36, CIFAR-10 Batch 2:  Cost: 0.905916154384613. Accuracy: 65.00000357627869%\n",
      "Epoch 36, CIFAR-10 Batch 3:  Cost: 0.8481897115707397. Accuracy: 75.0%\n",
      "Epoch 36, CIFAR-10 Batch 4:  Cost: 1.1053909063339233. Accuracy: 65.00000357627869%\n",
      "Epoch 36, CIFAR-10 Batch 5:  Cost: 0.9981347918510437. Accuracy: 72.50000238418579%\n",
      "Epoch 37, CIFAR-10 Batch 1:  Cost: 1.2073885202407837. Accuracy: 62.5%\n",
      "Epoch 37, CIFAR-10 Batch 2:  Cost: 0.8949429988861084. Accuracy: 67.50000715255737%\n",
      "Epoch 37, CIFAR-10 Batch 3:  Cost: 0.8426604270935059. Accuracy: 75.0%\n",
      "Epoch 37, CIFAR-10 Batch 4:  Cost: 1.098278284072876. Accuracy: 65.00000357627869%\n",
      "Epoch 37, CIFAR-10 Batch 5:  Cost: 0.9928416609764099. Accuracy: 72.50000238418579%\n",
      "Epoch 38, CIFAR-10 Batch 1:  Cost: 1.1964470148086548. Accuracy: 62.5%\n",
      "Epoch 38, CIFAR-10 Batch 2:  Cost: 0.8833249807357788. Accuracy: 67.50000715255737%\n",
      "Epoch 38, CIFAR-10 Batch 3:  Cost: 0.8338107466697693. Accuracy: 75.0%\n",
      "Epoch 38, CIFAR-10 Batch 4:  Cost: 1.089158535003662. Accuracy: 65.00000357627869%\n",
      "Epoch 38, CIFAR-10 Batch 5:  Cost: 0.9877027273178101. Accuracy: 72.50000238418579%\n",
      "Epoch 39, CIFAR-10 Batch 1:  Cost: 1.1852701902389526. Accuracy: 65.00000357627869%\n",
      "Epoch 39, CIFAR-10 Batch 2:  Cost: 0.8764442205429077. Accuracy: 67.50000715255737%\n",
      "Epoch 39, CIFAR-10 Batch 3:  Cost: 0.8247923851013184. Accuracy: 75.0%\n",
      "Epoch 39, CIFAR-10 Batch 4:  Cost: 1.0751543045043945. Accuracy: 62.50000596046448%\n",
      "Epoch 39, CIFAR-10 Batch 5:  Cost: 0.9781063199043274. Accuracy: 72.50000238418579%\n",
      "Epoch 40, CIFAR-10 Batch 1:  Cost: 1.17829167842865. Accuracy: 65.00000357627869%\n",
      "Epoch 40, CIFAR-10 Batch 2:  Cost: 0.8689879179000854. Accuracy: 67.50000715255737%\n",
      "Epoch 40, CIFAR-10 Batch 3:  Cost: 0.8194612860679626. Accuracy: 75.0%\n",
      "Epoch 40, CIFAR-10 Batch 4:  Cost: 1.0665632486343384. Accuracy: 62.50000596046448%\n",
      "Epoch 40, CIFAR-10 Batch 5:  Cost: 0.9732289910316467. Accuracy: 72.50000238418579%\n"
     ]
    }
   ],
   "source": [
    "\"\"\"\n",
    "DON'T MODIFY ANYTHING IN THIS CELL\n",
    "\"\"\"\n",
    "save_model_path = './image_classification'\n",
    "\n",
    "print('Training...')\n",
    "with tf.Session() as sess:\n",
    "    # Initializing the variables\n",
    "    sess.run(tf.global_variables_initializer())\n",
    "    \n",
    "    # Training cycle\n",
    "    for epoch in range(epochs):\n",
    "        # Loop over all batches\n",
    "        n_batches = 5\n",
    "        for batch_i in range(1, n_batches + 1):\n",
    "            for batch_features, batch_labels in helper.load_preprocess_training_batch(batch_i, batch_size):\n",
    "                train_neural_network(sess, optimizer, keep_probability, batch_features, batch_labels)\n",
    "            print('Epoch {:>2}, CIFAR-10 Batch {}:  '.format(epoch + 1, batch_i), end='')\n",
    "            print_stats(sess, batch_features, batch_labels, cost, accuracy)\n",
    "            \n",
    "    # Save Model\n",
    "    saver = tf.train.Saver()\n",
    "    save_path = saver.save(sess, save_model_path)"
   ]
  },
  {
   "cell_type": "markdown",
   "metadata": {
    "deletable": true,
    "editable": true
   },
   "source": [
    "# Checkpoint\n",
    "The model has been saved to disk.\n",
    "## Test Model\n",
    "Test your model against the test dataset.  This will be your final accuracy. You should have an accuracy greater than 50%. If you don't, keep tweaking the model architecture and parameters."
   ]
  },
  {
   "cell_type": "code",
   "execution_count": 170,
   "metadata": {
    "collapsed": false,
    "deletable": true,
    "editable": true
   },
   "outputs": [
    {
     "name": "stdout",
     "output_type": "stream",
     "text": [
      "Testing Accuracy: 0.5033623417721519\n",
      "\n"
     ]
    },
    {
     "data": {
      "image/png": "[encoded data removed]",
      "text/plain": [
       "<matplotlib.figure.Figure at 0x7fa5e029d240>"
      ]
     },
     "metadata": {
      "image/png": {
       "height": 319,
       "width": 355
      }
     },
     "output_type": "display_data"
    }
   ],
   "source": [
    "\"\"\"\n",
    "DON'T MODIFY ANYTHING IN THIS CELL\n",
    "\"\"\"\n",
    "%matplotlib inline\n",
    "%config InlineBackend.figure_format = 'retina'\n",
    "\n",
    "import tensorflow as tf\n",
    "import pickle\n",
    "import helper\n",
    "import random\n",
    "\n",
    "# Set batch size if not already set\n",
    "try:\n",
    "    if batch_size:\n",
    "        pass\n",
    "except NameError:\n",
    "    batch_size = 64\n",
    "\n",
    "save_model_path = './image_classification'\n",
    "n_samples = 4\n",
    "top_n_predictions = 3\n",
    "\n",
    "def test_model():\n",
    "    \"\"\"\n",
    "    Test the saved model against the test dataset\n",
    "    \"\"\"\n",
    "\n",
    "    test_features, test_labels = pickle.load(open('preprocess_training.p', mode='rb'))\n",
    "    loaded_graph = tf.Graph()\n",
    "\n",
    "    with tf.Session(graph=loaded_graph) as sess:\n",
    "        # Load model\n",
    "        loader = tf.train.import_meta_graph(save_model_path + '.meta')\n",
    "        loader.restore(sess, save_model_path)\n",
    "\n",
    "        # Get Tensors from loaded model\n",
    "        loaded_x = loaded_graph.get_tensor_by_name('x:0')\n",
    "        loaded_y = loaded_graph.get_tensor_by_name('y:0')\n",
    "        loaded_keep_prob = loaded_graph.get_tensor_by_name('keep_prob:0')\n",
    "        loaded_logits = loaded_graph.get_tensor_by_name('logits:0')\n",
    "        loaded_acc = loaded_graph.get_tensor_by_name('accuracy:0')\n",
    "        \n",
    "        # Get accuracy in batches for memory limitations\n",
    "        test_batch_acc_total = 0\n",
    "        test_batch_count = 0\n",
    "        \n",
    "        for train_feature_batch, train_label_batch in helper.batch_features_labels(test_features, test_labels, batch_size):\n",
    "            test_batch_acc_total += sess.run(\n",
    "                loaded_acc,\n",
    "                feed_dict={loaded_x: train_feature_batch, loaded_y: train_label_batch, loaded_keep_prob: 1.0})\n",
    "            test_batch_count += 1\n",
    "\n",
    "        print('Testing Accuracy: {}\\n'.format(test_batch_acc_total/test_batch_count))\n",
    "\n",
    "        # Print Random Samples\n",
    "        random_test_features, random_test_labels = tuple(zip(*random.sample(list(zip(test_features, test_labels)), n_samples)))\n",
    "        random_test_predictions = sess.run(\n",
    "            tf.nn.top_k(tf.nn.softmax(loaded_logits), top_n_predictions),\n",
    "            feed_dict={loaded_x: random_test_features, loaded_y: random_test_labels, loaded_keep_prob: 1.0})\n",
    "        helper.display_image_predictions(random_test_features, random_test_labels, random_test_predictions)\n",
    "\n",
    "\n",
    "test_model()"
   ]
  },
  {
   "cell_type": "markdown",
   "metadata": {
    "deletable": true,
    "editable": true
   },
   "source": [
    "## Why 50-70% Accuracy?\n",
    "You might be wondering why you can't get an accuracy any higher. First things first, 50% isn't bad for a simple CNN.  Pure guessing would get you 10% accuracy. However, you might notice people are getting scores [well above 70%](http://rodrigob.github.io/are_we_there_yet/build/classification_datasets_results.html#43494641522d3130).  That's because we haven't taught you all there is to know about neural networks. We still need to cover a few more techniques.\n",
    "## Submitting This Project\n",
    "When submitting this project, make sure to run all the cells before saving the notebook.  Save the notebook file as \"dlnd_image_classification.ipynb\" and save it as a HTML file under \"File\" -> \"Download as\".  Include the \"helper.py\" and \"problem_unittests.py\" files in your submission."
   ]
  }
 ],
 "metadata": {
  "kernelspec": {
   "display_name": "Python 3",
   "language": "python",
   "name": "python3"
  },
  "language_info": {
   "codemirror_mode": {
    "name": "ipython",
    "version": 3
   },
   "file_extension": ".py",
   "mimetype": "text/x-python",
   "name": "python",
   "nbconvert_exporter": "python",
   "pygments_lexer": "ipython3",
   "version": "3.5.2"
  },
  "widgets": {
   "state": {},
   "version": "1.1.2"
  }
 },
 "nbformat": 4,
 "nbformat_minor": 0
}
